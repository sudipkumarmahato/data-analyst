{
 "cells": [
  {
   "cell_type": "markdown",
   "id": "621cb0bd",
   "metadata": {
    "papermill": {
     "duration": 0.008835,
     "end_time": "2023-06-22T12:02:48.420797",
     "exception": false,
     "start_time": "2023-06-22T12:02:48.411962",
     "status": "completed"
    },
    "tags": []
   },
   "source": [
    "**This notebook is an exercise in the [Data Cleaning](https://www.kaggle.com/learn/data-cleaning) course.  You can reference the tutorial at [this link](https://www.kaggle.com/alexisbcook/handling-missing-values).**\n",
    "\n",
    "---\n"
   ]
  },
  {
   "cell_type": "markdown",
   "id": "d5dd16db",
   "metadata": {
    "papermill": {
     "duration": 0.008002,
     "end_time": "2023-06-22T12:02:48.437300",
     "exception": false,
     "start_time": "2023-06-22T12:02:48.429298",
     "status": "completed"
    },
    "tags": []
   },
   "source": [
    "In this exercise, you'll apply what you learned in the **Handling missing values** tutorial.\n",
    "\n",
    "# Setup\n",
    "\n",
    "The questions below will give you feedback on your work. Run the following cell to set up the feedback system."
   ]
  },
  {
   "cell_type": "code",
   "execution_count": 1,
   "id": "edba64f1",
   "metadata": {
    "execution": {
     "iopub.execute_input": "2023-06-22T12:02:48.455358Z",
     "iopub.status.busy": "2023-06-22T12:02:48.454895Z",
     "iopub.status.idle": "2023-06-22T12:02:58.797938Z",
     "shell.execute_reply": "2023-06-22T12:02:58.796710Z"
    },
    "papermill": {
     "duration": 10.355096,
     "end_time": "2023-06-22T12:02:58.800547",
     "exception": false,
     "start_time": "2023-06-22T12:02:48.445451",
     "status": "completed"
    },
    "tags": []
   },
   "outputs": [
    {
     "name": "stderr",
     "output_type": "stream",
     "text": [
      "/opt/conda/lib/python3.10/site-packages/learntools/data_cleaning/ex1.py:6: DtypeWarning: Columns (22,32) have mixed types. Specify dtype option on import or set low_memory=False.\n",
      "  sf_permits = pd.read_csv(\"../input/building-permit-applications-data/Building_Permits.csv\")\n"
     ]
    },
    {
     "name": "stdout",
     "output_type": "stream",
     "text": [
      "Setup Complete\n"
     ]
    }
   ],
   "source": [
    "from learntools.core import binder\n",
    "binder.bind(globals())\n",
    "from learntools.data_cleaning.ex1 import *\n",
    "print(\"Setup Complete\")"
   ]
  },
  {
   "cell_type": "markdown",
   "id": "00b459d8",
   "metadata": {
    "papermill": {
     "duration": 0.009136,
     "end_time": "2023-06-22T12:02:58.818937",
     "exception": false,
     "start_time": "2023-06-22T12:02:58.809801",
     "status": "completed"
    },
    "tags": []
   },
   "source": [
    "# 1) Take a first look at the data\n",
    "\n",
    "Run the next code cell to load in the libraries and dataset you'll use to complete the exercise."
   ]
  },
  {
   "cell_type": "code",
   "execution_count": 2,
   "id": "d9a5352b",
   "metadata": {
    "execution": {
     "iopub.execute_input": "2023-06-22T12:02:58.840020Z",
     "iopub.status.busy": "2023-06-22T12:02:58.839649Z",
     "iopub.status.idle": "2023-06-22T12:03:00.971051Z",
     "shell.execute_reply": "2023-06-22T12:03:00.969567Z"
    },
    "papermill": {
     "duration": 2.144635,
     "end_time": "2023-06-22T12:03:00.974269",
     "exception": false,
     "start_time": "2023-06-22T12:02:58.829634",
     "status": "completed"
    },
    "tags": []
   },
   "outputs": [
    {
     "name": "stderr",
     "output_type": "stream",
     "text": [
      "/tmp/ipykernel_20/3534875831.py:6: DtypeWarning: Columns (22,32) have mixed types. Specify dtype option on import or set low_memory=False.\n",
      "  sf_permits = pd.read_csv(\"../input/building-permit-applications-data/Building_Permits.csv\")\n"
     ]
    }
   ],
   "source": [
    "# modules we'll use\n",
    "import pandas as pd\n",
    "import numpy as np\n",
    "\n",
    "# read in all our data\n",
    "sf_permits = pd.read_csv(\"../input/building-permit-applications-data/Building_Permits.csv\")\n",
    "\n",
    "# set seed for reproducibility\n",
    "np.random.seed(0) "
   ]
  },
  {
   "cell_type": "markdown",
   "id": "0a0cee1b",
   "metadata": {
    "papermill": {
     "duration": 0.00919,
     "end_time": "2023-06-22T12:03:00.992844",
     "exception": false,
     "start_time": "2023-06-22T12:03:00.983654",
     "status": "completed"
    },
    "tags": []
   },
   "source": [
    "Use the code cell below to print the first five rows of the `sf_permits` DataFrame."
   ]
  },
  {
   "cell_type": "code",
   "execution_count": 3,
   "id": "4e6fa1ba",
   "metadata": {
    "execution": {
     "iopub.execute_input": "2023-06-22T12:03:01.012664Z",
     "iopub.status.busy": "2023-06-22T12:03:01.012290Z",
     "iopub.status.idle": "2023-06-22T12:03:01.056072Z",
     "shell.execute_reply": "2023-06-22T12:03:01.055072Z"
    },
    "papermill": {
     "duration": 0.057174,
     "end_time": "2023-06-22T12:03:01.059435",
     "exception": false,
     "start_time": "2023-06-22T12:03:01.002261",
     "status": "completed"
    },
    "tags": []
   },
   "outputs": [
    {
     "name": "stdout",
     "output_type": "stream",
     "text": [
      "(198900, 43)\n"
     ]
    },
    {
     "data": {
      "text/html": [
       "<div>\n",
       "<style scoped>\n",
       "    .dataframe tbody tr th:only-of-type {\n",
       "        vertical-align: middle;\n",
       "    }\n",
       "\n",
       "    .dataframe tbody tr th {\n",
       "        vertical-align: top;\n",
       "    }\n",
       "\n",
       "    .dataframe thead th {\n",
       "        text-align: right;\n",
       "    }\n",
       "</style>\n",
       "<table border=\"1\" class=\"dataframe\">\n",
       "  <thead>\n",
       "    <tr style=\"text-align: right;\">\n",
       "      <th></th>\n",
       "      <th>Permit Number</th>\n",
       "      <th>Permit Type</th>\n",
       "      <th>Permit Type Definition</th>\n",
       "      <th>Permit Creation Date</th>\n",
       "      <th>Block</th>\n",
       "      <th>Lot</th>\n",
       "      <th>Street Number</th>\n",
       "      <th>Street Number Suffix</th>\n",
       "      <th>Street Name</th>\n",
       "      <th>Street Suffix</th>\n",
       "      <th>...</th>\n",
       "      <th>Existing Construction Type</th>\n",
       "      <th>Existing Construction Type Description</th>\n",
       "      <th>Proposed Construction Type</th>\n",
       "      <th>Proposed Construction Type Description</th>\n",
       "      <th>Site Permit</th>\n",
       "      <th>Supervisor District</th>\n",
       "      <th>Neighborhoods - Analysis Boundaries</th>\n",
       "      <th>Zipcode</th>\n",
       "      <th>Location</th>\n",
       "      <th>Record ID</th>\n",
       "    </tr>\n",
       "  </thead>\n",
       "  <tbody>\n",
       "    <tr>\n",
       "      <th>0</th>\n",
       "      <td>201505065519</td>\n",
       "      <td>4</td>\n",
       "      <td>sign - erect</td>\n",
       "      <td>05/06/2015</td>\n",
       "      <td>0326</td>\n",
       "      <td>023</td>\n",
       "      <td>140</td>\n",
       "      <td>NaN</td>\n",
       "      <td>Ellis</td>\n",
       "      <td>St</td>\n",
       "      <td>...</td>\n",
       "      <td>3.0</td>\n",
       "      <td>constr type 3</td>\n",
       "      <td>NaN</td>\n",
       "      <td>NaN</td>\n",
       "      <td>NaN</td>\n",
       "      <td>3.0</td>\n",
       "      <td>Tenderloin</td>\n",
       "      <td>94102.0</td>\n",
       "      <td>(37.785719256680785, -122.40852313194863)</td>\n",
       "      <td>1380611233945</td>\n",
       "    </tr>\n",
       "    <tr>\n",
       "      <th>1</th>\n",
       "      <td>201604195146</td>\n",
       "      <td>4</td>\n",
       "      <td>sign - erect</td>\n",
       "      <td>04/19/2016</td>\n",
       "      <td>0306</td>\n",
       "      <td>007</td>\n",
       "      <td>440</td>\n",
       "      <td>NaN</td>\n",
       "      <td>Geary</td>\n",
       "      <td>St</td>\n",
       "      <td>...</td>\n",
       "      <td>3.0</td>\n",
       "      <td>constr type 3</td>\n",
       "      <td>NaN</td>\n",
       "      <td>NaN</td>\n",
       "      <td>NaN</td>\n",
       "      <td>3.0</td>\n",
       "      <td>Tenderloin</td>\n",
       "      <td>94102.0</td>\n",
       "      <td>(37.78733980600732, -122.41063199757738)</td>\n",
       "      <td>1420164406718</td>\n",
       "    </tr>\n",
       "    <tr>\n",
       "      <th>2</th>\n",
       "      <td>201605278609</td>\n",
       "      <td>3</td>\n",
       "      <td>additions alterations or repairs</td>\n",
       "      <td>05/27/2016</td>\n",
       "      <td>0595</td>\n",
       "      <td>203</td>\n",
       "      <td>1647</td>\n",
       "      <td>NaN</td>\n",
       "      <td>Pacific</td>\n",
       "      <td>Av</td>\n",
       "      <td>...</td>\n",
       "      <td>1.0</td>\n",
       "      <td>constr type 1</td>\n",
       "      <td>1.0</td>\n",
       "      <td>constr type 1</td>\n",
       "      <td>NaN</td>\n",
       "      <td>3.0</td>\n",
       "      <td>Russian Hill</td>\n",
       "      <td>94109.0</td>\n",
       "      <td>(37.7946573324287, -122.42232562979227)</td>\n",
       "      <td>1424856504716</td>\n",
       "    </tr>\n",
       "    <tr>\n",
       "      <th>3</th>\n",
       "      <td>201611072166</td>\n",
       "      <td>8</td>\n",
       "      <td>otc alterations permit</td>\n",
       "      <td>11/07/2016</td>\n",
       "      <td>0156</td>\n",
       "      <td>011</td>\n",
       "      <td>1230</td>\n",
       "      <td>NaN</td>\n",
       "      <td>Pacific</td>\n",
       "      <td>Av</td>\n",
       "      <td>...</td>\n",
       "      <td>5.0</td>\n",
       "      <td>wood frame (5)</td>\n",
       "      <td>5.0</td>\n",
       "      <td>wood frame (5)</td>\n",
       "      <td>NaN</td>\n",
       "      <td>3.0</td>\n",
       "      <td>Nob Hill</td>\n",
       "      <td>94109.0</td>\n",
       "      <td>(37.79595867909168, -122.41557405519474)</td>\n",
       "      <td>1443574295566</td>\n",
       "    </tr>\n",
       "    <tr>\n",
       "      <th>4</th>\n",
       "      <td>201611283529</td>\n",
       "      <td>6</td>\n",
       "      <td>demolitions</td>\n",
       "      <td>11/28/2016</td>\n",
       "      <td>0342</td>\n",
       "      <td>001</td>\n",
       "      <td>950</td>\n",
       "      <td>NaN</td>\n",
       "      <td>Market</td>\n",
       "      <td>St</td>\n",
       "      <td>...</td>\n",
       "      <td>3.0</td>\n",
       "      <td>constr type 3</td>\n",
       "      <td>NaN</td>\n",
       "      <td>NaN</td>\n",
       "      <td>NaN</td>\n",
       "      <td>6.0</td>\n",
       "      <td>Tenderloin</td>\n",
       "      <td>94102.0</td>\n",
       "      <td>(37.78315261897309, -122.40950883997789)</td>\n",
       "      <td>144548169992</td>\n",
       "    </tr>\n",
       "  </tbody>\n",
       "</table>\n",
       "<p>5 rows × 43 columns</p>\n",
       "</div>"
      ],
      "text/plain": [
       "  Permit Number  Permit Type            Permit Type Definition  \\\n",
       "0  201505065519            4                      sign - erect   \n",
       "1  201604195146            4                      sign - erect   \n",
       "2  201605278609            3  additions alterations or repairs   \n",
       "3  201611072166            8            otc alterations permit   \n",
       "4  201611283529            6                       demolitions   \n",
       "\n",
       "  Permit Creation Date Block  Lot  Street Number Street Number Suffix  \\\n",
       "0           05/06/2015  0326  023            140                  NaN   \n",
       "1           04/19/2016  0306  007            440                  NaN   \n",
       "2           05/27/2016  0595  203           1647                  NaN   \n",
       "3           11/07/2016  0156  011           1230                  NaN   \n",
       "4           11/28/2016  0342  001            950                  NaN   \n",
       "\n",
       "  Street Name Street Suffix  ...  Existing Construction Type  \\\n",
       "0       Ellis            St  ...                         3.0   \n",
       "1       Geary            St  ...                         3.0   \n",
       "2     Pacific            Av  ...                         1.0   \n",
       "3     Pacific            Av  ...                         5.0   \n",
       "4      Market            St  ...                         3.0   \n",
       "\n",
       "  Existing Construction Type Description Proposed Construction Type  \\\n",
       "0                          constr type 3                        NaN   \n",
       "1                          constr type 3                        NaN   \n",
       "2                          constr type 1                        1.0   \n",
       "3                         wood frame (5)                        5.0   \n",
       "4                          constr type 3                        NaN   \n",
       "\n",
       "  Proposed Construction Type Description Site Permit Supervisor District  \\\n",
       "0                                    NaN         NaN                 3.0   \n",
       "1                                    NaN         NaN                 3.0   \n",
       "2                          constr type 1         NaN                 3.0   \n",
       "3                         wood frame (5)         NaN                 3.0   \n",
       "4                                    NaN         NaN                 6.0   \n",
       "\n",
       "  Neighborhoods - Analysis Boundaries  Zipcode  \\\n",
       "0                          Tenderloin  94102.0   \n",
       "1                          Tenderloin  94102.0   \n",
       "2                        Russian Hill  94109.0   \n",
       "3                            Nob Hill  94109.0   \n",
       "4                          Tenderloin  94102.0   \n",
       "\n",
       "                                    Location      Record ID  \n",
       "0  (37.785719256680785, -122.40852313194863)  1380611233945  \n",
       "1   (37.78733980600732, -122.41063199757738)  1420164406718  \n",
       "2    (37.7946573324287, -122.42232562979227)  1424856504716  \n",
       "3   (37.79595867909168, -122.41557405519474)  1443574295566  \n",
       "4   (37.78315261897309, -122.40950883997789)   144548169992  \n",
       "\n",
       "[5 rows x 43 columns]"
      ]
     },
     "execution_count": 3,
     "metadata": {},
     "output_type": "execute_result"
    }
   ],
   "source": [
    "# TODO: Your code here!\n",
    "dimension=sf_permits.shape\n",
    "print(dimension)\n",
    "\n",
    "sf_permits.head()\n"
   ]
  },
  {
   "cell_type": "markdown",
   "id": "8fc2a612",
   "metadata": {
    "papermill": {
     "duration": 0.009421,
     "end_time": "2023-06-22T12:03:01.078089",
     "exception": false,
     "start_time": "2023-06-22T12:03:01.068668",
     "status": "completed"
    },
    "tags": []
   },
   "source": [
    "Does the dataset have any missing values?  Once you have an answer, run the code cell below to get credit for your work."
   ]
  },
  {
   "cell_type": "code",
   "execution_count": 4,
   "id": "d3587cd4",
   "metadata": {
    "execution": {
     "iopub.execute_input": "2023-06-22T12:03:01.098645Z",
     "iopub.status.busy": "2023-06-22T12:03:01.098268Z",
     "iopub.status.idle": "2023-06-22T12:03:02.748114Z",
     "shell.execute_reply": "2023-06-22T12:03:02.746986Z"
    },
    "papermill": {
     "duration": 1.663207,
     "end_time": "2023-06-22T12:03:02.750546",
     "exception": false,
     "start_time": "2023-06-22T12:03:01.087339",
     "status": "completed"
    },
    "tags": []
   },
   "outputs": [
    {
     "data": {
      "text/plain": [
       "Permit Number                  0\n",
       "Permit Type                    0\n",
       "Permit Type Definition         0\n",
       "Permit Creation Date           0\n",
       "Block                          0\n",
       "Lot                            0\n",
       "Street Number                  0\n",
       "Street Number Suffix      196684\n",
       "Street Name                    0\n",
       "Street Suffix               2768\n",
       "dtype: int64"
      ]
     },
     "execution_count": 4,
     "metadata": {},
     "output_type": "execute_result"
    }
   ],
   "source": [
    "# get the number of missing data points per column\n",
    "missing_values_count = sf_permits.isnull().sum()\n",
    "# print(missing_values_count)\n",
    "\n",
    "\n",
    "# look at the # of missing points in the first ten columns\n",
    "missing_values_count[0:10]"
   ]
  },
  {
   "cell_type": "code",
   "execution_count": 5,
   "id": "81fd5306",
   "metadata": {
    "execution": {
     "iopub.execute_input": "2023-06-22T12:03:02.771077Z",
     "iopub.status.busy": "2023-06-22T12:03:02.770669Z",
     "iopub.status.idle": "2023-06-22T12:03:02.775631Z",
     "shell.execute_reply": "2023-06-22T12:03:02.774325Z"
    },
    "papermill": {
     "duration": 0.018284,
     "end_time": "2023-06-22T12:03:02.778182",
     "exception": false,
     "start_time": "2023-06-22T12:03:02.759898",
     "status": "completed"
    },
    "tags": []
   },
   "outputs": [],
   "source": [
    "# Line below will give you a hint\n",
    "#q1.hint()"
   ]
  },
  {
   "cell_type": "markdown",
   "id": "ae062cb1",
   "metadata": {
    "papermill": {
     "duration": 0.009246,
     "end_time": "2023-06-22T12:03:02.797322",
     "exception": false,
     "start_time": "2023-06-22T12:03:02.788076",
     "status": "completed"
    },
    "tags": []
   },
   "source": [
    "# 2) How many missing data points do we have?\n",
    "\n",
    "What percentage of the values in the dataset are missing?  Your answer should be a number between 0 and 100.  (If 1/4 of the values in the dataset are missing, the answer is 25.)"
   ]
  },
  {
   "cell_type": "code",
   "execution_count": 6,
   "id": "3272e3df",
   "metadata": {
    "_kg_hide-input": true,
    "execution": {
     "iopub.execute_input": "2023-06-22T12:03:02.818009Z",
     "iopub.status.busy": "2023-06-22T12:03:02.817639Z",
     "iopub.status.idle": "2023-06-22T12:03:02.824882Z",
     "shell.execute_reply": "2023-06-22T12:03:02.823788Z"
    },
    "papermill": {
     "duration": 0.020541,
     "end_time": "2023-06-22T12:03:02.827267",
     "exception": false,
     "start_time": "2023-06-22T12:03:02.806726",
     "status": "completed"
    },
    "tags": []
   },
   "outputs": [
    {
     "name": "stdout",
     "output_type": "stream",
     "text": [
      "8552700\n",
      "2245941\n",
      "26.26002315058403\n"
     ]
    }
   ],
   "source": [
    "# how many total missing values do we have?\n",
    "total_cells = np.product(sf_permits.shape)\n",
    "total_missing = missing_values_count.sum()\n",
    "\n",
    "print(total_cells)\n",
    "print(total_missing)\n",
    "\n",
    "# percent of data that is missing\n",
    "percent_missing = (total_missing/total_cells) * 100\n",
    "print(percent_missing)\n",
    "\n",
    "# Check your answer\n",
    "# q2.check()"
   ]
  },
  {
   "cell_type": "code",
   "execution_count": 7,
   "id": "cabe5b50",
   "metadata": {
    "execution": {
     "iopub.execute_input": "2023-06-22T12:03:02.847991Z",
     "iopub.status.busy": "2023-06-22T12:03:02.847620Z",
     "iopub.status.idle": "2023-06-22T12:03:02.851786Z",
     "shell.execute_reply": "2023-06-22T12:03:02.850739Z"
    },
    "papermill": {
     "duration": 0.017434,
     "end_time": "2023-06-22T12:03:02.854240",
     "exception": false,
     "start_time": "2023-06-22T12:03:02.836806",
     "status": "completed"
    },
    "tags": []
   },
   "outputs": [],
   "source": [
    "# Lines below will give you a hint or solution code\n",
    "#q2.hint()\n",
    "#q2.solution()"
   ]
  },
  {
   "cell_type": "markdown",
   "id": "7ad132ad",
   "metadata": {
    "papermill": {
     "duration": 0.009776,
     "end_time": "2023-06-22T12:03:02.873450",
     "exception": false,
     "start_time": "2023-06-22T12:03:02.863674",
     "status": "completed"
    },
    "tags": []
   },
   "source": [
    "# 3) Figure out why the data is missing\n",
    "\n",
    "Look at the columns **\"Street Number Suffix\"** and **\"Zipcode\"** from the [San Francisco Building Permits dataset](https://www.kaggle.com/aparnashastry/building-permit-applications-data). Both of these contain missing values. \n",
    "- Which, if either, are missing because they don't exist? \n",
    "- Which, if either, are missing because they weren't recorded?  \n",
    "\n",
    "Once you have an answer, run the code cell below."
   ]
  },
  {
   "cell_type": "code",
   "execution_count": 8,
   "id": "b15a203f",
   "metadata": {
    "execution": {
     "iopub.execute_input": "2023-06-22T12:03:02.894576Z",
     "iopub.status.busy": "2023-06-22T12:03:02.894134Z",
     "iopub.status.idle": "2023-06-22T12:03:02.904088Z",
     "shell.execute_reply": "2023-06-22T12:03:02.902910Z"
    },
    "papermill": {
     "duration": 0.023411,
     "end_time": "2023-06-22T12:03:02.906651",
     "exception": false,
     "start_time": "2023-06-22T12:03:02.883240",
     "status": "completed"
    },
    "tags": []
   },
   "outputs": [
    {
     "data": {
      "application/javascript": [
       "parent.postMessage({\"jupyterEvent\": \"custom.exercise_interaction\", \"data\": {\"outcomeType\": 1, \"valueTowardsCompletion\": 0.16666666666666666, \"interactionType\": 1, \"questionType\": 4, \"questionId\": \"3_WhyDataMissing\", \"learnToolsVersion\": \"0.3.4\", \"failureMessage\": \"\", \"exceptionClass\": \"\", \"trace\": \"\"}}, \"*\")"
      ],
      "text/plain": [
       "<IPython.core.display.Javascript object>"
      ]
     },
     "metadata": {},
     "output_type": "display_data"
    },
    {
     "data": {
      "text/markdown": [
       "<span style=\"color:#33cc33\">Correct:</span> \n",
       "\n",
       "If a value in the \"Street Number Suffix\" column is missing, it is likely because it does not exist. If a value in the \"Zipcode\" column is missing, it was not recorded."
      ],
      "text/plain": [
       "Correct: \n",
       "\n",
       "If a value in the \"Street Number Suffix\" column is missing, it is likely because it does not exist. If a value in the \"Zipcode\" column is missing, it was not recorded."
      ]
     },
     "metadata": {},
     "output_type": "display_data"
    }
   ],
   "source": [
    "# Check your answer (Run this code cell to receive credit!)\n",
    "q3.check()"
   ]
  },
  {
   "cell_type": "code",
   "execution_count": 9,
   "id": "d2a90910",
   "metadata": {
    "execution": {
     "iopub.execute_input": "2023-06-22T12:03:02.929715Z",
     "iopub.status.busy": "2023-06-22T12:03:02.929344Z",
     "iopub.status.idle": "2023-06-22T12:03:02.933792Z",
     "shell.execute_reply": "2023-06-22T12:03:02.932680Z"
    },
    "papermill": {
     "duration": 0.019354,
     "end_time": "2023-06-22T12:03:02.936419",
     "exception": false,
     "start_time": "2023-06-22T12:03:02.917065",
     "status": "completed"
    },
    "tags": []
   },
   "outputs": [],
   "source": [
    "# Line below will give you a hint\n",
    "#q3.hint()"
   ]
  },
  {
   "cell_type": "markdown",
   "id": "283f78e6",
   "metadata": {
    "papermill": {
     "duration": 0.009486,
     "end_time": "2023-06-22T12:03:02.955991",
     "exception": false,
     "start_time": "2023-06-22T12:03:02.946505",
     "status": "completed"
    },
    "tags": []
   },
   "source": [
    "# 4) Drop missing values: rows\n",
    "\n",
    "If you removed all of the rows of `sf_permits` with missing values, how many rows are left?\n",
    "\n",
    "**Note**: Do not change the value of `sf_permits` when checking this.  "
   ]
  },
  {
   "cell_type": "code",
   "execution_count": 10,
   "id": "35a7303c",
   "metadata": {
    "execution": {
     "iopub.execute_input": "2023-06-22T12:03:02.977465Z",
     "iopub.status.busy": "2023-06-22T12:03:02.977038Z",
     "iopub.status.idle": "2023-06-22T12:03:02.982881Z",
     "shell.execute_reply": "2023-06-22T12:03:02.981526Z"
    },
    "papermill": {
     "duration": 0.019744,
     "end_time": "2023-06-22T12:03:02.985355",
     "exception": false,
     "start_time": "2023-06-22T12:03:02.965611",
     "status": "completed"
    },
    "tags": []
   },
   "outputs": [],
   "source": [
    "# TODO: Your code here!\n"
   ]
  },
  {
   "cell_type": "markdown",
   "id": "09c0febb",
   "metadata": {
    "papermill": {
     "duration": 0.010225,
     "end_time": "2023-06-22T12:03:03.006277",
     "exception": false,
     "start_time": "2023-06-22T12:03:02.996052",
     "status": "completed"
    },
    "tags": []
   },
   "source": [
    "Once you have an answer, run the code cell below."
   ]
  },
  {
   "cell_type": "code",
   "execution_count": 11,
   "id": "84fa2a36",
   "metadata": {
    "execution": {
     "iopub.execute_input": "2023-06-22T12:03:03.028611Z",
     "iopub.status.busy": "2023-06-22T12:03:03.027565Z",
     "iopub.status.idle": "2023-06-22T12:03:03.036492Z",
     "shell.execute_reply": "2023-06-22T12:03:03.035493Z"
    },
    "papermill": {
     "duration": 0.022467,
     "end_time": "2023-06-22T12:03:03.038796",
     "exception": false,
     "start_time": "2023-06-22T12:03:03.016329",
     "status": "completed"
    },
    "tags": []
   },
   "outputs": [
    {
     "data": {
      "application/javascript": [
       "parent.postMessage({\"jupyterEvent\": \"custom.exercise_interaction\", \"data\": {\"outcomeType\": 1, \"valueTowardsCompletion\": 0.16666666666666666, \"interactionType\": 1, \"questionType\": 4, \"questionId\": \"4_DropMissingRows\", \"learnToolsVersion\": \"0.3.4\", \"failureMessage\": \"\", \"exceptionClass\": \"\", \"trace\": \"\"}}, \"*\")"
      ],
      "text/plain": [
       "<IPython.core.display.Javascript object>"
      ]
     },
     "metadata": {},
     "output_type": "display_data"
    },
    {
     "data": {
      "text/markdown": [
       "<span style=\"color:#33cc33\">Correct:</span> \n",
       "\n",
       "There are no rows remaining in the dataset!"
      ],
      "text/plain": [
       "Correct: \n",
       "\n",
       "There are no rows remaining in the dataset!"
      ]
     },
     "metadata": {},
     "output_type": "display_data"
    }
   ],
   "source": [
    "# Check your answer (Run this code cell to receive credit!)\n",
    "q4.check()"
   ]
  },
  {
   "cell_type": "code",
   "execution_count": 12,
   "id": "0d7a5567",
   "metadata": {
    "execution": {
     "iopub.execute_input": "2023-06-22T12:03:03.061123Z",
     "iopub.status.busy": "2023-06-22T12:03:03.060701Z",
     "iopub.status.idle": "2023-06-22T12:03:03.066038Z",
     "shell.execute_reply": "2023-06-22T12:03:03.064790Z"
    },
    "papermill": {
     "duration": 0.019239,
     "end_time": "2023-06-22T12:03:03.068349",
     "exception": false,
     "start_time": "2023-06-22T12:03:03.049110",
     "status": "completed"
    },
    "tags": []
   },
   "outputs": [],
   "source": [
    "# Line below will give you a hint\n",
    "#q4.hint()"
   ]
  },
  {
   "cell_type": "markdown",
   "id": "6a2aeffa",
   "metadata": {
    "papermill": {
     "duration": 0.009797,
     "end_time": "2023-06-22T12:03:03.088601",
     "exception": false,
     "start_time": "2023-06-22T12:03:03.078804",
     "status": "completed"
    },
    "tags": []
   },
   "source": [
    "# 5) Drop missing values: columns\n",
    "\n",
    "Now try removing all the columns with empty values.  \n",
    "- Create a new DataFrame called `sf_permits_with_na_dropped` that has all of the columns with empty values removed.  \n",
    "- How many columns were removed from the original `sf_permits` DataFrame? Use this number to set the value of the `dropped_columns` variable below."
   ]
  },
  {
   "cell_type": "code",
   "execution_count": 13,
   "id": "e06a1f80",
   "metadata": {
    "execution": {
     "iopub.execute_input": "2023-06-22T12:03:03.110754Z",
     "iopub.status.busy": "2023-06-22T12:03:03.110327Z",
     "iopub.status.idle": "2023-06-22T12:03:03.122097Z",
     "shell.execute_reply": "2023-06-22T12:03:03.120781Z"
    },
    "papermill": {
     "duration": 0.025961,
     "end_time": "2023-06-22T12:03:03.124805",
     "exception": false,
     "start_time": "2023-06-22T12:03:03.098844",
     "status": "completed"
    },
    "tags": []
   },
   "outputs": [
    {
     "data": {
      "application/javascript": [
       "parent.postMessage({\"jupyterEvent\": \"custom.exercise_interaction\", \"data\": {\"outcomeType\": 4, \"interactionType\": 1, \"questionType\": 1, \"questionId\": \"5_DropMissingCols\", \"learnToolsVersion\": \"0.3.4\", \"valueTowardsCompletion\": 0.0, \"failureMessage\": \"\", \"exceptionClass\": \"\", \"trace\": \"\"}}, \"*\")"
      ],
      "text/plain": [
       "<IPython.core.display.Javascript object>"
      ]
     },
     "metadata": {},
     "output_type": "display_data"
    },
    {
     "data": {
      "text/markdown": [
       "<span style=\"color:#ccaa33\">Check:</span> When you've updated the starter code, `check()` will tell you whether your code is correct. You need to update the code that creates variables `sf_permits_with_na_dropped`, `dropped_columns`"
      ],
      "text/plain": [
       "Check: When you've updated the starter code, `check()` will tell you whether your code is correct. You need to update the code that creates variables `sf_permits_with_na_dropped`, `dropped_columns`"
      ]
     },
     "metadata": {},
     "output_type": "display_data"
    }
   ],
   "source": [
    "# TODO: Your code here\n",
    "sf_permits_with_na_dropped = ____\n",
    "\n",
    "dropped_columns = ____\n",
    "\n",
    "# Check your answer\n",
    "q5.check()"
   ]
  },
  {
   "cell_type": "code",
   "execution_count": 14,
   "id": "be46e0fb",
   "metadata": {
    "execution": {
     "iopub.execute_input": "2023-06-22T12:03:03.149071Z",
     "iopub.status.busy": "2023-06-22T12:03:03.148694Z",
     "iopub.status.idle": "2023-06-22T12:03:03.153396Z",
     "shell.execute_reply": "2023-06-22T12:03:03.152275Z"
    },
    "papermill": {
     "duration": 0.01985,
     "end_time": "2023-06-22T12:03:03.155892",
     "exception": false,
     "start_time": "2023-06-22T12:03:03.136042",
     "status": "completed"
    },
    "tags": []
   },
   "outputs": [],
   "source": [
    "# Lines below will give you a hint or solution code\n",
    "#q5.hint()\n",
    "#q5.solution()"
   ]
  },
  {
   "cell_type": "markdown",
   "id": "459a406d",
   "metadata": {
    "papermill": {
     "duration": 0.010321,
     "end_time": "2023-06-22T12:03:03.176992",
     "exception": false,
     "start_time": "2023-06-22T12:03:03.166671",
     "status": "completed"
    },
    "tags": []
   },
   "source": [
    "# 6) Fill in missing values automatically\n",
    "\n",
    "Try replacing all the NaN's in the `sf_permits` data with the one that comes directly after it and then replacing any remaining NaN's with 0.  Set the result to a new DataFrame `sf_permits_with_na_imputed`."
   ]
  },
  {
   "cell_type": "code",
   "execution_count": 15,
   "id": "e6e7b608",
   "metadata": {
    "execution": {
     "iopub.execute_input": "2023-06-22T12:03:03.200547Z",
     "iopub.status.busy": "2023-06-22T12:03:03.200110Z",
     "iopub.status.idle": "2023-06-22T12:03:03.209879Z",
     "shell.execute_reply": "2023-06-22T12:03:03.208646Z"
    },
    "papermill": {
     "duration": 0.023951,
     "end_time": "2023-06-22T12:03:03.212203",
     "exception": false,
     "start_time": "2023-06-22T12:03:03.188252",
     "status": "completed"
    },
    "tags": []
   },
   "outputs": [
    {
     "data": {
      "application/javascript": [
       "parent.postMessage({\"jupyterEvent\": \"custom.exercise_interaction\", \"data\": {\"outcomeType\": 4, \"interactionType\": 1, \"questionType\": 1, \"questionId\": \"6_ImputeAutomatically\", \"learnToolsVersion\": \"0.3.4\", \"valueTowardsCompletion\": 0.0, \"failureMessage\": \"\", \"exceptionClass\": \"\", \"trace\": \"\"}}, \"*\")"
      ],
      "text/plain": [
       "<IPython.core.display.Javascript object>"
      ]
     },
     "metadata": {},
     "output_type": "display_data"
    },
    {
     "data": {
      "text/markdown": [
       "<span style=\"color:#ccaa33\">Check:</span> When you've updated the starter code, `check()` will tell you whether your code is correct. You need to update the code that creates variable `sf_permits_with_na_imputed`"
      ],
      "text/plain": [
       "Check: When you've updated the starter code, `check()` will tell you whether your code is correct. You need to update the code that creates variable `sf_permits_with_na_imputed`"
      ]
     },
     "metadata": {},
     "output_type": "display_data"
    }
   ],
   "source": [
    "# TODO: Your code here\n",
    "sf_permits_with_na_imputed = ____\n",
    "\n",
    "# Check your answer\n",
    "q6.check()"
   ]
  },
  {
   "cell_type": "code",
   "execution_count": 16,
   "id": "e7445a4c",
   "metadata": {
    "execution": {
     "iopub.execute_input": "2023-06-22T12:03:03.235571Z",
     "iopub.status.busy": "2023-06-22T12:03:03.234918Z",
     "iopub.status.idle": "2023-06-22T12:03:03.238816Z",
     "shell.execute_reply": "2023-06-22T12:03:03.237978Z"
    },
    "papermill": {
     "duration": 0.018065,
     "end_time": "2023-06-22T12:03:03.240964",
     "exception": false,
     "start_time": "2023-06-22T12:03:03.222899",
     "status": "completed"
    },
    "tags": []
   },
   "outputs": [],
   "source": [
    "# Lines below will give you a hint or solution code\n",
    "#q6.hint()\n",
    "#q6.solution()"
   ]
  },
  {
   "cell_type": "markdown",
   "id": "07f596ac",
   "metadata": {
    "papermill": {
     "duration": 0.010228,
     "end_time": "2023-06-22T12:03:03.261805",
     "exception": false,
     "start_time": "2023-06-22T12:03:03.251577",
     "status": "completed"
    },
    "tags": []
   },
   "source": [
    "# More practice\n",
    "\n",
    "If you're looking for more practice handling missing values:\n",
    "\n",
    "* Check out [this noteboook](https://www.kaggle.com/alexisbcook/missing-values) on handling missing values using scikit-learn's imputer. \n",
    "* Look back at the \"Zipcode\" column in the `sf_permits` dataset, which has some missing values. How would you go about figuring out what the actual zipcode of each address should be? (You might try using another dataset. You can search for datasets about San Fransisco on the [Datasets listing](https://www.kaggle.com/datasets).) \n",
    "\n",
    "# Keep going\n",
    "\n",
    "In the next lesson, learn how to [**apply scaling and normalization**](https://www.kaggle.com/alexisbcook/scaling-and-normalization) to transform your data."
   ]
  },
  {
   "cell_type": "markdown",
   "id": "cc66aa7c",
   "metadata": {
    "papermill": {
     "duration": 0.010502,
     "end_time": "2023-06-22T12:03:03.283148",
     "exception": false,
     "start_time": "2023-06-22T12:03:03.272646",
     "status": "completed"
    },
    "tags": []
   },
   "source": [
    "---\n",
    "\n",
    "\n",
    "\n",
    "\n",
    "*Have questions or comments? Visit the [course discussion forum](https://www.kaggle.com/learn/data-cleaning/discussion) to chat with other learners.*"
   ]
  }
 ],
 "metadata": {
  "kernelspec": {
   "display_name": "Python 3",
   "language": "python",
   "name": "python3"
  },
  "language_info": {
   "codemirror_mode": {
    "name": "ipython",
    "version": 3
   },
   "file_extension": ".py",
   "mimetype": "text/x-python",
   "name": "python",
   "nbconvert_exporter": "python",
   "pygments_lexer": "ipython3",
   "version": "3.10.10"
  },
  "papermill": {
   "default_parameters": {},
   "duration": 29.056076,
   "end_time": "2023-06-22T12:03:04.417668",
   "environment_variables": {},
   "exception": null,
   "input_path": "__notebook__.ipynb",
   "output_path": "__notebook__.ipynb",
   "parameters": {},
   "start_time": "2023-06-22T12:02:35.361592",
   "version": "2.4.0"
  }
 },
 "nbformat": 4,
 "nbformat_minor": 5
}
