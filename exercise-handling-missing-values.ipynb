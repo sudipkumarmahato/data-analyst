{
 "cells": [
  {
   "cell_type": "markdown",
   "id": "1304d9f1",
   "metadata": {
    "papermill": {
     "duration": 0.007684,
     "end_time": "2023-06-21T16:58:55.446756",
     "exception": false,
     "start_time": "2023-06-21T16:58:55.439072",
     "status": "completed"
    },
    "tags": []
   },
   "source": [
    "**This notebook is an exercise in the [Data Cleaning](https://www.kaggle.com/learn/data-cleaning) course.  You can reference the tutorial at [this link](https://www.kaggle.com/alexisbcook/handling-missing-values).**\n",
    "\n",
    "---\n"
   ]
  },
  {
   "cell_type": "markdown",
   "id": "757d6b01",
   "metadata": {
    "papermill": {
     "duration": 0.006744,
     "end_time": "2023-06-21T16:58:55.460628",
     "exception": false,
     "start_time": "2023-06-21T16:58:55.453884",
     "status": "completed"
    },
    "tags": []
   },
   "source": [
    "In this exercise, you'll apply what you learned in the **Handling missing values** tutorial.\n",
    "\n",
    "# Setup\n",
    "\n",
    "The questions below will give you feedback on your work. Run the following cell to set up the feedback system."
   ]
  },
  {
   "cell_type": "code",
   "execution_count": 1,
   "id": "13a7ece5",
   "metadata": {
    "execution": {
     "iopub.execute_input": "2023-06-21T16:58:55.476285Z",
     "iopub.status.busy": "2023-06-21T16:58:55.475885Z",
     "iopub.status.idle": "2023-06-21T16:59:05.320415Z",
     "shell.execute_reply": "2023-06-21T16:59:05.319322Z"
    },
    "papermill": {
     "duration": 9.85549,
     "end_time": "2023-06-21T16:59:05.323094",
     "exception": false,
     "start_time": "2023-06-21T16:58:55.467604",
     "status": "completed"
    },
    "tags": []
   },
   "outputs": [
    {
     "name": "stderr",
     "output_type": "stream",
     "text": [
      "/opt/conda/lib/python3.10/site-packages/learntools/data_cleaning/ex1.py:6: DtypeWarning: Columns (22,32) have mixed types. Specify dtype option on import or set low_memory=False.\n",
      "  sf_permits = pd.read_csv(\"../input/building-permit-applications-data/Building_Permits.csv\")\n"
     ]
    },
    {
     "name": "stdout",
     "output_type": "stream",
     "text": [
      "Setup Complete\n"
     ]
    }
   ],
   "source": [
    "from learntools.core import binder\n",
    "binder.bind(globals())\n",
    "from learntools.data_cleaning.ex1 import *\n",
    "print(\"Setup Complete\")"
   ]
  },
  {
   "cell_type": "markdown",
   "id": "ef50b2aa",
   "metadata": {
    "papermill": {
     "duration": 0.007018,
     "end_time": "2023-06-21T16:59:05.337714",
     "exception": false,
     "start_time": "2023-06-21T16:59:05.330696",
     "status": "completed"
    },
    "tags": []
   },
   "source": [
    "# 1) Take a first look at the data\n",
    "\n",
    "Run the next code cell to load in the libraries and dataset you'll use to complete the exercise."
   ]
  },
  {
   "cell_type": "code",
   "execution_count": 2,
   "id": "7a97f282",
   "metadata": {
    "execution": {
     "iopub.execute_input": "2023-06-21T16:59:05.355988Z",
     "iopub.status.busy": "2023-06-21T16:59:05.355604Z",
     "iopub.status.idle": "2023-06-21T16:59:07.310980Z",
     "shell.execute_reply": "2023-06-21T16:59:07.309766Z"
    },
    "papermill": {
     "duration": 1.969009,
     "end_time": "2023-06-21T16:59:07.314269",
     "exception": false,
     "start_time": "2023-06-21T16:59:05.345260",
     "status": "completed"
    },
    "tags": []
   },
   "outputs": [
    {
     "name": "stderr",
     "output_type": "stream",
     "text": [
      "/tmp/ipykernel_20/3534875831.py:6: DtypeWarning: Columns (22,32) have mixed types. Specify dtype option on import or set low_memory=False.\n",
      "  sf_permits = pd.read_csv(\"../input/building-permit-applications-data/Building_Permits.csv\")\n"
     ]
    }
   ],
   "source": [
    "# modules we'll use\n",
    "import pandas as pd\n",
    "import numpy as np\n",
    "\n",
    "# read in all our data\n",
    "sf_permits = pd.read_csv(\"../input/building-permit-applications-data/Building_Permits.csv\")\n",
    "\n",
    "# set seed for reproducibility\n",
    "np.random.seed(0) "
   ]
  },
  {
   "cell_type": "markdown",
   "id": "45d3491c",
   "metadata": {
    "papermill": {
     "duration": 0.008761,
     "end_time": "2023-06-21T16:59:07.333884",
     "exception": false,
     "start_time": "2023-06-21T16:59:07.325123",
     "status": "completed"
    },
    "tags": []
   },
   "source": [
    "Use the code cell below to print the first five rows of the `sf_permits` DataFrame."
   ]
  },
  {
   "cell_type": "code",
   "execution_count": 3,
   "id": "f129b3b2",
   "metadata": {
    "execution": {
     "iopub.execute_input": "2023-06-21T16:59:07.351294Z",
     "iopub.status.busy": "2023-06-21T16:59:07.350916Z",
     "iopub.status.idle": "2023-06-21T16:59:07.355659Z",
     "shell.execute_reply": "2023-06-21T16:59:07.354662Z"
    },
    "papermill": {
     "duration": 0.016012,
     "end_time": "2023-06-21T16:59:07.357745",
     "exception": false,
     "start_time": "2023-06-21T16:59:07.341733",
     "status": "completed"
    },
    "tags": []
   },
   "outputs": [],
   "source": [
    "# TODO: Your code here!\n"
   ]
  },
  {
   "cell_type": "markdown",
   "id": "c6ad82a3",
   "metadata": {
    "papermill": {
     "duration": 0.007713,
     "end_time": "2023-06-21T16:59:07.373021",
     "exception": false,
     "start_time": "2023-06-21T16:59:07.365308",
     "status": "completed"
    },
    "tags": []
   },
   "source": [
    "Does the dataset have any missing values?  Once you have an answer, run the code cell below to get credit for your work."
   ]
  },
  {
   "cell_type": "code",
   "execution_count": 4,
   "id": "1455bd61",
   "metadata": {
    "execution": {
     "iopub.execute_input": "2023-06-21T16:59:07.393357Z",
     "iopub.status.busy": "2023-06-21T16:59:07.392660Z",
     "iopub.status.idle": "2023-06-21T16:59:07.400901Z",
     "shell.execute_reply": "2023-06-21T16:59:07.400151Z"
    },
    "papermill": {
     "duration": 0.020818,
     "end_time": "2023-06-21T16:59:07.403424",
     "exception": false,
     "start_time": "2023-06-21T16:59:07.382606",
     "status": "completed"
    },
    "tags": []
   },
   "outputs": [
    {
     "data": {
      "application/javascript": [
       "parent.postMessage({\"jupyterEvent\": \"custom.exercise_interaction\", \"data\": {\"outcomeType\": 1, \"valueTowardsCompletion\": 0.16666666666666666, \"interactionType\": 1, \"questionType\": 4, \"questionId\": \"1_TakeFirstLook\", \"learnToolsVersion\": \"0.3.4\", \"failureMessage\": \"\", \"exceptionClass\": \"\", \"trace\": \"\"}}, \"*\")"
      ],
      "text/plain": [
       "<IPython.core.display.Javascript object>"
      ]
     },
     "metadata": {},
     "output_type": "display_data"
    },
    {
     "data": {
      "text/markdown": [
       "<span style=\"color:#33cc33\">Correct:</span> \n",
       "\n",
       "The first five rows of the data does show that several columns have missing values.  You can see this in the \"Street Number Suffix\", \"Proposed Construction Type\" and \"Site Permit\" columns, among others."
      ],
      "text/plain": [
       "Correct: \n",
       "\n",
       "The first five rows of the data does show that several columns have missing values.  You can see this in the \"Street Number Suffix\", \"Proposed Construction Type\" and \"Site Permit\" columns, among others."
      ]
     },
     "metadata": {},
     "output_type": "display_data"
    }
   ],
   "source": [
    "# Check your answer (Run this code cell to receive credit!)\n",
    "q1.check()"
   ]
  },
  {
   "cell_type": "code",
   "execution_count": 5,
   "id": "852b912c",
   "metadata": {
    "execution": {
     "iopub.execute_input": "2023-06-21T16:59:07.427169Z",
     "iopub.status.busy": "2023-06-21T16:59:07.426486Z",
     "iopub.status.idle": "2023-06-21T16:59:07.430181Z",
     "shell.execute_reply": "2023-06-21T16:59:07.429445Z"
    },
    "papermill": {
     "duration": 0.018287,
     "end_time": "2023-06-21T16:59:07.432644",
     "exception": false,
     "start_time": "2023-06-21T16:59:07.414357",
     "status": "completed"
    },
    "tags": []
   },
   "outputs": [],
   "source": [
    "# Line below will give you a hint\n",
    "#q1.hint()"
   ]
  },
  {
   "cell_type": "markdown",
   "id": "9952f6e9",
   "metadata": {
    "papermill": {
     "duration": 0.009375,
     "end_time": "2023-06-21T16:59:07.452885",
     "exception": false,
     "start_time": "2023-06-21T16:59:07.443510",
     "status": "completed"
    },
    "tags": []
   },
   "source": [
    "# 2) How many missing data points do we have?\n",
    "\n",
    "What percentage of the values in the dataset are missing?  Your answer should be a number between 0 and 100.  (If 1/4 of the values in the dataset are missing, the answer is 25.)"
   ]
  },
  {
   "cell_type": "code",
   "execution_count": 6,
   "id": "acc56b56",
   "metadata": {
    "execution": {
     "iopub.execute_input": "2023-06-21T16:59:07.471524Z",
     "iopub.status.busy": "2023-06-21T16:59:07.470624Z",
     "iopub.status.idle": "2023-06-21T16:59:07.479796Z",
     "shell.execute_reply": "2023-06-21T16:59:07.478870Z"
    },
    "papermill": {
     "duration": 0.021189,
     "end_time": "2023-06-21T16:59:07.482101",
     "exception": false,
     "start_time": "2023-06-21T16:59:07.460912",
     "status": "completed"
    },
    "tags": []
   },
   "outputs": [
    {
     "data": {
      "application/javascript": [
       "parent.postMessage({\"jupyterEvent\": \"custom.exercise_interaction\", \"data\": {\"outcomeType\": 4, \"interactionType\": 1, \"questionType\": 1, \"questionId\": \"2_PercentMissingValues\", \"learnToolsVersion\": \"0.3.4\", \"valueTowardsCompletion\": 0.0, \"failureMessage\": \"\", \"exceptionClass\": \"\", \"trace\": \"\"}}, \"*\")"
      ],
      "text/plain": [
       "<IPython.core.display.Javascript object>"
      ]
     },
     "metadata": {},
     "output_type": "display_data"
    },
    {
     "data": {
      "text/markdown": [
       "<span style=\"color:#ccaa33\">Check:</span> When you've updated the starter code, `check()` will tell you whether your code is correct. You need to update the code that creates variable `percent_missing`"
      ],
      "text/plain": [
       "Check: When you've updated the starter code, `check()` will tell you whether your code is correct. You need to update the code that creates variable `percent_missing`"
      ]
     },
     "metadata": {},
     "output_type": "display_data"
    }
   ],
   "source": [
    "# TODO: Your code here!\n",
    "percent_missing = ____\n",
    "\n",
    "# Check your answer\n",
    "q2.check()"
   ]
  },
  {
   "cell_type": "code",
   "execution_count": 7,
   "id": "2e8b589d",
   "metadata": {
    "execution": {
     "iopub.execute_input": "2023-06-21T16:59:07.501880Z",
     "iopub.status.busy": "2023-06-21T16:59:07.500993Z",
     "iopub.status.idle": "2023-06-21T16:59:07.505848Z",
     "shell.execute_reply": "2023-06-21T16:59:07.504721Z"
    },
    "papermill": {
     "duration": 0.017329,
     "end_time": "2023-06-21T16:59:07.508030",
     "exception": false,
     "start_time": "2023-06-21T16:59:07.490701",
     "status": "completed"
    },
    "tags": []
   },
   "outputs": [],
   "source": [
    "# Lines below will give you a hint or solution code\n",
    "#q2.hint()\n",
    "#q2.solution()"
   ]
  },
  {
   "cell_type": "markdown",
   "id": "6f33aa74",
   "metadata": {
    "papermill": {
     "duration": 0.00819,
     "end_time": "2023-06-21T16:59:07.524815",
     "exception": false,
     "start_time": "2023-06-21T16:59:07.516625",
     "status": "completed"
    },
    "tags": []
   },
   "source": [
    "# 3) Figure out why the data is missing\n",
    "\n",
    "Look at the columns **\"Street Number Suffix\"** and **\"Zipcode\"** from the [San Francisco Building Permits dataset](https://www.kaggle.com/aparnashastry/building-permit-applications-data). Both of these contain missing values. \n",
    "- Which, if either, are missing because they don't exist? \n",
    "- Which, if either, are missing because they weren't recorded?  \n",
    "\n",
    "Once you have an answer, run the code cell below."
   ]
  },
  {
   "cell_type": "code",
   "execution_count": 8,
   "id": "936131d3",
   "metadata": {
    "execution": {
     "iopub.execute_input": "2023-06-21T16:59:07.545407Z",
     "iopub.status.busy": "2023-06-21T16:59:07.544673Z",
     "iopub.status.idle": "2023-06-21T16:59:07.557337Z",
     "shell.execute_reply": "2023-06-21T16:59:07.556261Z"
    },
    "papermill": {
     "duration": 0.027118,
     "end_time": "2023-06-21T16:59:07.560515",
     "exception": false,
     "start_time": "2023-06-21T16:59:07.533397",
     "status": "completed"
    },
    "tags": []
   },
   "outputs": [
    {
     "data": {
      "application/javascript": [
       "parent.postMessage({\"jupyterEvent\": \"custom.exercise_interaction\", \"data\": {\"outcomeType\": 1, \"valueTowardsCompletion\": 0.16666666666666666, \"interactionType\": 1, \"questionType\": 4, \"questionId\": \"3_WhyDataMissing\", \"learnToolsVersion\": \"0.3.4\", \"failureMessage\": \"\", \"exceptionClass\": \"\", \"trace\": \"\"}}, \"*\")"
      ],
      "text/plain": [
       "<IPython.core.display.Javascript object>"
      ]
     },
     "metadata": {},
     "output_type": "display_data"
    },
    {
     "data": {
      "text/markdown": [
       "<span style=\"color:#33cc33\">Correct:</span> \n",
       "\n",
       "If a value in the \"Street Number Suffix\" column is missing, it is likely because it does not exist. If a value in the \"Zipcode\" column is missing, it was not recorded."
      ],
      "text/plain": [
       "Correct: \n",
       "\n",
       "If a value in the \"Street Number Suffix\" column is missing, it is likely because it does not exist. If a value in the \"Zipcode\" column is missing, it was not recorded."
      ]
     },
     "metadata": {},
     "output_type": "display_data"
    }
   ],
   "source": [
    "# Check your answer (Run this code cell to receive credit!)\n",
    "q3.check()"
   ]
  },
  {
   "cell_type": "code",
   "execution_count": 9,
   "id": "f5dfef6e",
   "metadata": {
    "execution": {
     "iopub.execute_input": "2023-06-21T16:59:07.581381Z",
     "iopub.status.busy": "2023-06-21T16:59:07.581028Z",
     "iopub.status.idle": "2023-06-21T16:59:07.584720Z",
     "shell.execute_reply": "2023-06-21T16:59:07.583968Z"
    },
    "papermill": {
     "duration": 0.018299,
     "end_time": "2023-06-21T16:59:07.588292",
     "exception": false,
     "start_time": "2023-06-21T16:59:07.569993",
     "status": "completed"
    },
    "tags": []
   },
   "outputs": [],
   "source": [
    "# Line below will give you a hint\n",
    "#q3.hint()"
   ]
  },
  {
   "cell_type": "markdown",
   "id": "1d4aaded",
   "metadata": {
    "papermill": {
     "duration": 0.008878,
     "end_time": "2023-06-21T16:59:07.606137",
     "exception": false,
     "start_time": "2023-06-21T16:59:07.597259",
     "status": "completed"
    },
    "tags": []
   },
   "source": [
    "# 4) Drop missing values: rows\n",
    "\n",
    "If you removed all of the rows of `sf_permits` with missing values, how many rows are left?\n",
    "\n",
    "**Note**: Do not change the value of `sf_permits` when checking this.  "
   ]
  },
  {
   "cell_type": "code",
   "execution_count": 10,
   "id": "4a4c30fa",
   "metadata": {
    "execution": {
     "iopub.execute_input": "2023-06-21T16:59:07.625525Z",
     "iopub.status.busy": "2023-06-21T16:59:07.625113Z",
     "iopub.status.idle": "2023-06-21T16:59:07.629492Z",
     "shell.execute_reply": "2023-06-21T16:59:07.628700Z"
    },
    "papermill": {
     "duration": 0.017932,
     "end_time": "2023-06-21T16:59:07.633033",
     "exception": false,
     "start_time": "2023-06-21T16:59:07.615101",
     "status": "completed"
    },
    "tags": []
   },
   "outputs": [],
   "source": [
    "# TODO: Your code here!\n"
   ]
  },
  {
   "cell_type": "markdown",
   "id": "35b99a8b",
   "metadata": {
    "papermill": {
     "duration": 0.008831,
     "end_time": "2023-06-21T16:59:07.653701",
     "exception": false,
     "start_time": "2023-06-21T16:59:07.644870",
     "status": "completed"
    },
    "tags": []
   },
   "source": [
    "Once you have an answer, run the code cell below."
   ]
  },
  {
   "cell_type": "code",
   "execution_count": 11,
   "id": "3de6913d",
   "metadata": {
    "execution": {
     "iopub.execute_input": "2023-06-21T16:59:07.674436Z",
     "iopub.status.busy": "2023-06-21T16:59:07.673523Z",
     "iopub.status.idle": "2023-06-21T16:59:07.682661Z",
     "shell.execute_reply": "2023-06-21T16:59:07.681743Z"
    },
    "papermill": {
     "duration": 0.021953,
     "end_time": "2023-06-21T16:59:07.684923",
     "exception": false,
     "start_time": "2023-06-21T16:59:07.662970",
     "status": "completed"
    },
    "tags": []
   },
   "outputs": [
    {
     "data": {
      "application/javascript": [
       "parent.postMessage({\"jupyterEvent\": \"custom.exercise_interaction\", \"data\": {\"outcomeType\": 1, \"valueTowardsCompletion\": 0.16666666666666666, \"interactionType\": 1, \"questionType\": 4, \"questionId\": \"4_DropMissingRows\", \"learnToolsVersion\": \"0.3.4\", \"failureMessage\": \"\", \"exceptionClass\": \"\", \"trace\": \"\"}}, \"*\")"
      ],
      "text/plain": [
       "<IPython.core.display.Javascript object>"
      ]
     },
     "metadata": {},
     "output_type": "display_data"
    },
    {
     "data": {
      "text/markdown": [
       "<span style=\"color:#33cc33\">Correct:</span> \n",
       "\n",
       "There are no rows remaining in the dataset!"
      ],
      "text/plain": [
       "Correct: \n",
       "\n",
       "There are no rows remaining in the dataset!"
      ]
     },
     "metadata": {},
     "output_type": "display_data"
    }
   ],
   "source": [
    "# Check your answer (Run this code cell to receive credit!)\n",
    "q4.check()"
   ]
  },
  {
   "cell_type": "code",
   "execution_count": 12,
   "id": "ffdb3382",
   "metadata": {
    "execution": {
     "iopub.execute_input": "2023-06-21T16:59:07.706991Z",
     "iopub.status.busy": "2023-06-21T16:59:07.706118Z",
     "iopub.status.idle": "2023-06-21T16:59:07.710597Z",
     "shell.execute_reply": "2023-06-21T16:59:07.709674Z"
    },
    "papermill": {
     "duration": 0.018288,
     "end_time": "2023-06-21T16:59:07.712863",
     "exception": false,
     "start_time": "2023-06-21T16:59:07.694575",
     "status": "completed"
    },
    "tags": []
   },
   "outputs": [],
   "source": [
    "# Line below will give you a hint\n",
    "#q4.hint()"
   ]
  },
  {
   "cell_type": "markdown",
   "id": "ba077943",
   "metadata": {
    "papermill": {
     "duration": 0.00921,
     "end_time": "2023-06-21T16:59:07.731926",
     "exception": false,
     "start_time": "2023-06-21T16:59:07.722716",
     "status": "completed"
    },
    "tags": []
   },
   "source": [
    "# 5) Drop missing values: columns\n",
    "\n",
    "Now try removing all the columns with empty values.  \n",
    "- Create a new DataFrame called `sf_permits_with_na_dropped` that has all of the columns with empty values removed.  \n",
    "- How many columns were removed from the original `sf_permits` DataFrame? Use this number to set the value of the `dropped_columns` variable below."
   ]
  },
  {
   "cell_type": "code",
   "execution_count": 13,
   "id": "11386f81",
   "metadata": {
    "execution": {
     "iopub.execute_input": "2023-06-21T16:59:07.753528Z",
     "iopub.status.busy": "2023-06-21T16:59:07.752678Z",
     "iopub.status.idle": "2023-06-21T16:59:07.762238Z",
     "shell.execute_reply": "2023-06-21T16:59:07.761311Z"
    },
    "papermill": {
     "duration": 0.022806,
     "end_time": "2023-06-21T16:59:07.764368",
     "exception": false,
     "start_time": "2023-06-21T16:59:07.741562",
     "status": "completed"
    },
    "tags": []
   },
   "outputs": [
    {
     "data": {
      "application/javascript": [
       "parent.postMessage({\"jupyterEvent\": \"custom.exercise_interaction\", \"data\": {\"outcomeType\": 4, \"interactionType\": 1, \"questionType\": 1, \"questionId\": \"5_DropMissingCols\", \"learnToolsVersion\": \"0.3.4\", \"valueTowardsCompletion\": 0.0, \"failureMessage\": \"\", \"exceptionClass\": \"\", \"trace\": \"\"}}, \"*\")"
      ],
      "text/plain": [
       "<IPython.core.display.Javascript object>"
      ]
     },
     "metadata": {},
     "output_type": "display_data"
    },
    {
     "data": {
      "text/markdown": [
       "<span style=\"color:#ccaa33\">Check:</span> When you've updated the starter code, `check()` will tell you whether your code is correct. You need to update the code that creates variables `sf_permits_with_na_dropped`, `dropped_columns`"
      ],
      "text/plain": [
       "Check: When you've updated the starter code, `check()` will tell you whether your code is correct. You need to update the code that creates variables `sf_permits_with_na_dropped`, `dropped_columns`"
      ]
     },
     "metadata": {},
     "output_type": "display_data"
    }
   ],
   "source": [
    "# TODO: Your code here\n",
    "sf_permits_with_na_dropped = ____\n",
    "\n",
    "dropped_columns = ____\n",
    "\n",
    "# Check your answer\n",
    "q5.check()"
   ]
  },
  {
   "cell_type": "code",
   "execution_count": 14,
   "id": "7f7113e7",
   "metadata": {
    "execution": {
     "iopub.execute_input": "2023-06-21T16:59:07.786606Z",
     "iopub.status.busy": "2023-06-21T16:59:07.785771Z",
     "iopub.status.idle": "2023-06-21T16:59:07.790234Z",
     "shell.execute_reply": "2023-06-21T16:59:07.789343Z"
    },
    "papermill": {
     "duration": 0.018188,
     "end_time": "2023-06-21T16:59:07.792324",
     "exception": false,
     "start_time": "2023-06-21T16:59:07.774136",
     "status": "completed"
    },
    "tags": []
   },
   "outputs": [],
   "source": [
    "# Lines below will give you a hint or solution code\n",
    "#q5.hint()\n",
    "#q5.solution()"
   ]
  },
  {
   "cell_type": "markdown",
   "id": "f6060340",
   "metadata": {
    "papermill": {
     "duration": 0.009587,
     "end_time": "2023-06-21T16:59:07.811952",
     "exception": false,
     "start_time": "2023-06-21T16:59:07.802365",
     "status": "completed"
    },
    "tags": []
   },
   "source": [
    "# 6) Fill in missing values automatically\n",
    "\n",
    "Try replacing all the NaN's in the `sf_permits` data with the one that comes directly after it and then replacing any remaining NaN's with 0.  Set the result to a new DataFrame `sf_permits_with_na_imputed`."
   ]
  },
  {
   "cell_type": "code",
   "execution_count": 15,
   "id": "85aa4d0c",
   "metadata": {
    "execution": {
     "iopub.execute_input": "2023-06-21T16:59:07.833686Z",
     "iopub.status.busy": "2023-06-21T16:59:07.832962Z",
     "iopub.status.idle": "2023-06-21T16:59:07.840458Z",
     "shell.execute_reply": "2023-06-21T16:59:07.839603Z"
    },
    "papermill": {
     "duration": 0.021041,
     "end_time": "2023-06-21T16:59:07.842902",
     "exception": false,
     "start_time": "2023-06-21T16:59:07.821861",
     "status": "completed"
    },
    "tags": []
   },
   "outputs": [
    {
     "data": {
      "application/javascript": [
       "parent.postMessage({\"jupyterEvent\": \"custom.exercise_interaction\", \"data\": {\"outcomeType\": 4, \"interactionType\": 1, \"questionType\": 1, \"questionId\": \"6_ImputeAutomatically\", \"learnToolsVersion\": \"0.3.4\", \"valueTowardsCompletion\": 0.0, \"failureMessage\": \"\", \"exceptionClass\": \"\", \"trace\": \"\"}}, \"*\")"
      ],
      "text/plain": [
       "<IPython.core.display.Javascript object>"
      ]
     },
     "metadata": {},
     "output_type": "display_data"
    },
    {
     "data": {
      "text/markdown": [
       "<span style=\"color:#ccaa33\">Check:</span> When you've updated the starter code, `check()` will tell you whether your code is correct. You need to update the code that creates variable `sf_permits_with_na_imputed`"
      ],
      "text/plain": [
       "Check: When you've updated the starter code, `check()` will tell you whether your code is correct. You need to update the code that creates variable `sf_permits_with_na_imputed`"
      ]
     },
     "metadata": {},
     "output_type": "display_data"
    }
   ],
   "source": [
    "# TODO: Your code here\n",
    "sf_permits_with_na_imputed = ____\n",
    "\n",
    "# Check your answer\n",
    "q6.check()"
   ]
  },
  {
   "cell_type": "code",
   "execution_count": 16,
   "id": "5fd5c3e0",
   "metadata": {
    "execution": {
     "iopub.execute_input": "2023-06-21T16:59:07.870797Z",
     "iopub.status.busy": "2023-06-21T16:59:07.869833Z",
     "iopub.status.idle": "2023-06-21T16:59:07.874651Z",
     "shell.execute_reply": "2023-06-21T16:59:07.873703Z"
    },
    "papermill": {
     "duration": 0.019788,
     "end_time": "2023-06-21T16:59:07.876865",
     "exception": false,
     "start_time": "2023-06-21T16:59:07.857077",
     "status": "completed"
    },
    "tags": []
   },
   "outputs": [],
   "source": [
    "# Lines below will give you a hint or solution code\n",
    "#q6.hint()\n",
    "#q6.solution()"
   ]
  },
  {
   "cell_type": "markdown",
   "id": "40d43a43",
   "metadata": {
    "papermill": {
     "duration": 0.010001,
     "end_time": "2023-06-21T16:59:07.897411",
     "exception": false,
     "start_time": "2023-06-21T16:59:07.887410",
     "status": "completed"
    },
    "tags": []
   },
   "source": [
    "# More practice\n",
    "\n",
    "If you're looking for more practice handling missing values:\n",
    "\n",
    "* Check out [this noteboook](https://www.kaggle.com/alexisbcook/missing-values) on handling missing values using scikit-learn's imputer. \n",
    "* Look back at the \"Zipcode\" column in the `sf_permits` dataset, which has some missing values. How would you go about figuring out what the actual zipcode of each address should be? (You might try using another dataset. You can search for datasets about San Fransisco on the [Datasets listing](https://www.kaggle.com/datasets).) \n",
    "\n",
    "# Keep going\n",
    "\n",
    "In the next lesson, learn how to [**apply scaling and normalization**](https://www.kaggle.com/alexisbcook/scaling-and-normalization) to transform your data."
   ]
  },
  {
   "cell_type": "markdown",
   "id": "43a73496",
   "metadata": {
    "papermill": {
     "duration": 0.010031,
     "end_time": "2023-06-21T16:59:07.917875",
     "exception": false,
     "start_time": "2023-06-21T16:59:07.907844",
     "status": "completed"
    },
    "tags": []
   },
   "source": [
    "---\n",
    "\n",
    "\n",
    "\n",
    "\n",
    "*Have questions or comments? Visit the [course discussion forum](https://www.kaggle.com/learn/data-cleaning/discussion) to chat with other learners.*"
   ]
  }
 ],
 "metadata": {
  "kernelspec": {
   "display_name": "Python 3",
   "language": "python",
   "name": "python3"
  },
  "language_info": {
   "codemirror_mode": {
    "name": "ipython",
    "version": 3
   },
   "file_extension": ".py",
   "mimetype": "text/x-python",
   "name": "python",
   "nbconvert_exporter": "python",
   "pygments_lexer": "ipython3",
   "version": "3.10.10"
  },
  "papermill": {
   "default_parameters": {},
   "duration": 25.171237,
   "end_time": "2023-06-21T16:59:08.850624",
   "environment_variables": {},
   "exception": null,
   "input_path": "__notebook__.ipynb",
   "output_path": "__notebook__.ipynb",
   "parameters": {},
   "start_time": "2023-06-21T16:58:43.679387",
   "version": "2.4.0"
  }
 },
 "nbformat": 4,
 "nbformat_minor": 5
}
