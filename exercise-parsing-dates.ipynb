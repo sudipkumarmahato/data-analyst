{
 "cells": [
  {
   "cell_type": "markdown",
   "id": "fea73749",
   "metadata": {
    "papermill": {
     "duration": 0.011855,
     "end_time": "2023-06-24T07:07:47.456794",
     "exception": false,
     "start_time": "2023-06-24T07:07:47.444939",
     "status": "completed"
    },
    "tags": []
   },
   "source": [
    "**This notebook is an exercise in the [Data Cleaning](https://www.kaggle.com/learn/data-cleaning) course.  You can reference the tutorial at [this link](https://www.kaggle.com/alexisbcook/parsing-dates).**\n",
    "\n",
    "---\n"
   ]
  },
  {
   "cell_type": "markdown",
   "id": "ad27685b",
   "metadata": {
    "papermill": {
     "duration": 0.008974,
     "end_time": "2023-06-24T07:07:47.475324",
     "exception": false,
     "start_time": "2023-06-24T07:07:47.466350",
     "status": "completed"
    },
    "tags": []
   },
   "source": [
    "In this exercise, you'll apply what you learned in the **Parsing dates** tutorial.\n",
    "\n",
    "# Setup\n",
    "\n",
    "The questions below will give you feedback on your work. Run the following cell to set up the feedback system."
   ]
  },
  {
   "cell_type": "code",
   "execution_count": 1,
   "id": "3ff238bc",
   "metadata": {
    "execution": {
     "iopub.execute_input": "2023-06-24T07:07:47.495975Z",
     "iopub.status.busy": "2023-06-24T07:07:47.495582Z",
     "iopub.status.idle": "2023-06-24T07:07:49.649054Z",
     "shell.execute_reply": "2023-06-24T07:07:49.647828Z"
    },
    "papermill": {
     "duration": 2.167484,
     "end_time": "2023-06-24T07:07:49.652165",
     "exception": false,
     "start_time": "2023-06-24T07:07:47.484681",
     "status": "completed"
    },
    "tags": []
   },
   "outputs": [
    {
     "name": "stdout",
     "output_type": "stream",
     "text": [
      "Setup Complete\n"
     ]
    }
   ],
   "source": [
    "from learntools.core import binder\n",
    "binder.bind(globals())\n",
    "from learntools.data_cleaning.ex3 import *\n",
    "print(\"Setup Complete\")"
   ]
  },
  {
   "cell_type": "markdown",
   "id": "423d1947",
   "metadata": {
    "papermill": {
     "duration": 0.009814,
     "end_time": "2023-06-24T07:07:49.672243",
     "exception": false,
     "start_time": "2023-06-24T07:07:49.662429",
     "status": "completed"
    },
    "tags": []
   },
   "source": [
    "# Get our environment set up\n",
    "\n",
    "The first thing we'll need to do is load in the libraries and dataset we'll be using. We'll be working with a dataset containing information on earthquakes that occured between 1965 and 2016."
   ]
  },
  {
   "cell_type": "code",
   "execution_count": 2,
   "id": "4ab0ce6a",
   "metadata": {
    "execution": {
     "iopub.execute_input": "2023-06-24T07:07:49.694051Z",
     "iopub.status.busy": "2023-06-24T07:07:49.692783Z",
     "iopub.status.idle": "2023-06-24T07:07:49.802542Z",
     "shell.execute_reply": "2023-06-24T07:07:49.801287Z"
    },
    "papermill": {
     "duration": 0.123329,
     "end_time": "2023-06-24T07:07:49.805326",
     "exception": false,
     "start_time": "2023-06-24T07:07:49.681997",
     "status": "completed"
    },
    "tags": []
   },
   "outputs": [],
   "source": [
    "# modules we'll use\n",
    "import pandas as pd\n",
    "import numpy as np\n",
    "import seaborn as sns\n",
    "import datetime\n",
    "\n",
    "# read in our data\n",
    "earthquakes = pd.read_csv(\"../input/earthquake-database/database.csv\")\n",
    "\n",
    "# set seed for reproducibility\n",
    "np.random.seed(0)"
   ]
  },
  {
   "cell_type": "markdown",
   "id": "890d62e4",
   "metadata": {
    "papermill": {
     "duration": 0.009724,
     "end_time": "2023-06-24T07:07:49.825059",
     "exception": false,
     "start_time": "2023-06-24T07:07:49.815335",
     "status": "completed"
    },
    "tags": []
   },
   "source": [
    "# 1) Check the data type of our date column\n",
    "\n",
    "You'll be working with the \"Date\" column from the `earthquakes` dataframe.  Investigate this column now: does it look like it contains dates?  What is the dtype of the column?"
   ]
  },
  {
   "cell_type": "code",
   "execution_count": 3,
   "id": "a7367bea",
   "metadata": {
    "execution": {
     "iopub.execute_input": "2023-06-24T07:07:49.846675Z",
     "iopub.status.busy": "2023-06-24T07:07:49.846276Z",
     "iopub.status.idle": "2023-06-24T07:07:49.856454Z",
     "shell.execute_reply": "2023-06-24T07:07:49.855099Z"
    },
    "papermill": {
     "duration": 0.024264,
     "end_time": "2023-06-24T07:07:49.859033",
     "exception": false,
     "start_time": "2023-06-24T07:07:49.834769",
     "status": "completed"
    },
    "tags": []
   },
   "outputs": [
    {
     "data": {
      "text/plain": [
       "0    01/02/1965\n",
       "1    01/04/1965\n",
       "2    01/05/1965\n",
       "3    01/08/1965\n",
       "4    01/09/1965\n",
       "Name: Date, dtype: object"
      ]
     },
     "execution_count": 3,
     "metadata": {},
     "output_type": "execute_result"
    }
   ],
   "source": [
    "# TODO: Your code here!\n",
    "# earthquakes.head()\n",
    "earthquakes['Date'].head()"
   ]
  },
  {
   "cell_type": "markdown",
   "id": "2129e31f",
   "metadata": {
    "papermill": {
     "duration": 0.009302,
     "end_time": "2023-06-24T07:07:49.878099",
     "exception": false,
     "start_time": "2023-06-24T07:07:49.868797",
     "status": "completed"
    },
    "tags": []
   },
   "source": [
    "Once you have answered the question above, run the code cell below to get credit for your work."
   ]
  },
  {
   "cell_type": "code",
   "execution_count": 4,
   "id": "cac26806",
   "metadata": {
    "execution": {
     "iopub.execute_input": "2023-06-24T07:07:49.899319Z",
     "iopub.status.busy": "2023-06-24T07:07:49.898842Z",
     "iopub.status.idle": "2023-06-24T07:07:49.908907Z",
     "shell.execute_reply": "2023-06-24T07:07:49.907771Z"
    },
    "papermill": {
     "duration": 0.023691,
     "end_time": "2023-06-24T07:07:49.911452",
     "exception": false,
     "start_time": "2023-06-24T07:07:49.887761",
     "status": "completed"
    },
    "tags": []
   },
   "outputs": [
    {
     "data": {
      "application/javascript": [
       "parent.postMessage({\"jupyterEvent\": \"custom.exercise_interaction\", \"data\": {\"outcomeType\": 1, \"valueTowardsCompletion\": 0.25, \"interactionType\": 1, \"questionType\": 4, \"questionId\": \"1_CheckDtype\", \"learnToolsVersion\": \"0.3.4\", \"failureMessage\": \"\", \"exceptionClass\": \"\", \"trace\": \"\"}}, \"*\")"
      ],
      "text/plain": [
       "<IPython.core.display.Javascript object>"
      ]
     },
     "metadata": {},
     "output_type": "display_data"
    },
    {
     "data": {
      "text/markdown": [
       "<span style=\"color:#33cc33\">Correct:</span> \n",
       "\n",
       "The \"Date\" column in the `earthquakes` DataFrame does have dates.  The dtype is \"object\"."
      ],
      "text/plain": [
       "Correct: \n",
       "\n",
       "The \"Date\" column in the `earthquakes` DataFrame does have dates.  The dtype is \"object\"."
      ]
     },
     "metadata": {},
     "output_type": "display_data"
    }
   ],
   "source": [
    "# Check your answer (Run this code cell to receive credit!)\n",
    "q1.check()"
   ]
  },
  {
   "cell_type": "code",
   "execution_count": 5,
   "id": "d130b09a",
   "metadata": {
    "execution": {
     "iopub.execute_input": "2023-06-24T07:07:49.933970Z",
     "iopub.status.busy": "2023-06-24T07:07:49.933550Z",
     "iopub.status.idle": "2023-06-24T07:07:49.941655Z",
     "shell.execute_reply": "2023-06-24T07:07:49.940752Z"
    },
    "papermill": {
     "duration": 0.022334,
     "end_time": "2023-06-24T07:07:49.943806",
     "exception": false,
     "start_time": "2023-06-24T07:07:49.921472",
     "status": "completed"
    },
    "tags": []
   },
   "outputs": [
    {
     "data": {
      "application/javascript": [
       "parent.postMessage({\"jupyterEvent\": \"custom.exercise_interaction\", \"data\": {\"interactionType\": 2, \"questionType\": 4, \"questionId\": \"1_CheckDtype\", \"learnToolsVersion\": \"0.3.4\", \"valueTowardsCompletion\": 0.0, \"failureMessage\": \"\", \"exceptionClass\": \"\", \"trace\": \"\", \"outcomeType\": 4}}, \"*\")"
      ],
      "text/plain": [
       "<IPython.core.display.Javascript object>"
      ]
     },
     "metadata": {},
     "output_type": "display_data"
    },
    {
     "data": {
      "text/markdown": [
       "<span style=\"color:#3366cc\">Hint:</span> Use `earthquakes['Date'].head()` to check that the column contains dates and verify that it has dtype \"object\".  You can also use `earthquakes['Date'].dtype` to verify the dtype."
      ],
      "text/plain": [
       "Hint: Use `earthquakes['Date'].head()` to check that the column contains dates and verify that it has dtype \"object\".  You can also use `earthquakes['Date'].dtype` to verify the dtype."
      ]
     },
     "metadata": {},
     "output_type": "display_data"
    }
   ],
   "source": [
    "# Line below will give you a hint\n",
    "q1.hint()"
   ]
  },
  {
   "cell_type": "markdown",
   "id": "a1440396",
   "metadata": {
    "papermill": {
     "duration": 0.009811,
     "end_time": "2023-06-24T07:07:49.963751",
     "exception": false,
     "start_time": "2023-06-24T07:07:49.953940",
     "status": "completed"
    },
    "tags": []
   },
   "source": [
    "# 2) Convert our date columns to datetime\n",
    "\n",
    "Most of the entries in the \"Date\" column follow the same format: \"month/day/four-digit year\".  However, the entry at index 3378 follows a completely different pattern.  Run the code cell below to see this."
   ]
  },
  {
   "cell_type": "code",
   "execution_count": 6,
   "id": "043fe34f",
   "metadata": {
    "execution": {
     "iopub.execute_input": "2023-06-24T07:07:49.986137Z",
     "iopub.status.busy": "2023-06-24T07:07:49.985697Z",
     "iopub.status.idle": "2023-06-24T07:07:49.992875Z",
     "shell.execute_reply": "2023-06-24T07:07:49.992037Z"
    },
    "papermill": {
     "duration": 0.02102,
     "end_time": "2023-06-24T07:07:49.994935",
     "exception": false,
     "start_time": "2023-06-24T07:07:49.973915",
     "status": "completed"
    },
    "tags": []
   },
   "outputs": [
    {
     "data": {
      "text/plain": [
       "dtype('O')"
      ]
     },
     "execution_count": 6,
     "metadata": {},
     "output_type": "execute_result"
    }
   ],
   "source": [
    "earthquakes['Date'].dtype\n",
    "# earthquakes[3378:3383]"
   ]
  },
  {
   "cell_type": "markdown",
   "id": "fb5e7179",
   "metadata": {
    "papermill": {
     "duration": 0.01006,
     "end_time": "2023-06-24T07:07:50.015362",
     "exception": false,
     "start_time": "2023-06-24T07:07:50.005302",
     "status": "completed"
    },
    "tags": []
   },
   "source": [
    "This does appear to be an issue with data entry: ideally, all entries in the column have the same format.  We can get an idea of how widespread this issue is by checking the length of each entry in the \"Date\" column."
   ]
  },
  {
   "cell_type": "code",
   "execution_count": 7,
   "id": "11e1e138",
   "metadata": {
    "execution": {
     "iopub.execute_input": "2023-06-24T07:07:50.037963Z",
     "iopub.status.busy": "2023-06-24T07:07:50.037581Z",
     "iopub.status.idle": "2023-06-24T07:07:50.065634Z",
     "shell.execute_reply": "2023-06-24T07:07:50.064776Z"
    },
    "papermill": {
     "duration": 0.042434,
     "end_time": "2023-06-24T07:07:50.067996",
     "exception": false,
     "start_time": "2023-06-24T07:07:50.025562",
     "status": "completed"
    },
    "tags": []
   },
   "outputs": [
    {
     "data": {
      "text/plain": [
       "10    23409\n",
       "24        3\n",
       "Name: Date, dtype: int64"
      ]
     },
     "execution_count": 7,
     "metadata": {},
     "output_type": "execute_result"
    }
   ],
   "source": [
    "date_lengths = earthquakes.Date.str.len()\n",
    "date_lengths.value_counts()"
   ]
  },
  {
   "cell_type": "markdown",
   "id": "a342e72f",
   "metadata": {
    "papermill": {
     "duration": 0.010047,
     "end_time": "2023-06-24T07:07:50.088749",
     "exception": false,
     "start_time": "2023-06-24T07:07:50.078702",
     "status": "completed"
    },
    "tags": []
   },
   "source": [
    "Looks like there are two more rows that has a date in a different format.  Run the code cell below to obtain the indices corresponding to those rows and print the data."
   ]
  },
  {
   "cell_type": "code",
   "execution_count": 8,
   "id": "e8b3b1d2",
   "metadata": {
    "execution": {
     "iopub.execute_input": "2023-06-24T07:07:50.111909Z",
     "iopub.status.busy": "2023-06-24T07:07:50.111164Z",
     "iopub.status.idle": "2023-06-24T07:07:50.154915Z",
     "shell.execute_reply": "2023-06-24T07:07:50.153738Z"
    },
    "papermill": {
     "duration": 0.058884,
     "end_time": "2023-06-24T07:07:50.158030",
     "exception": false,
     "start_time": "2023-06-24T07:07:50.099146",
     "status": "completed"
    },
    "tags": []
   },
   "outputs": [
    {
     "name": "stdout",
     "output_type": "stream",
     "text": [
      "Indices with corrupted data: [ 3378  7512 20650]\n"
     ]
    },
    {
     "data": {
      "text/html": [
       "<div>\n",
       "<style scoped>\n",
       "    .dataframe tbody tr th:only-of-type {\n",
       "        vertical-align: middle;\n",
       "    }\n",
       "\n",
       "    .dataframe tbody tr th {\n",
       "        vertical-align: top;\n",
       "    }\n",
       "\n",
       "    .dataframe thead th {\n",
       "        text-align: right;\n",
       "    }\n",
       "</style>\n",
       "<table border=\"1\" class=\"dataframe\">\n",
       "  <thead>\n",
       "    <tr style=\"text-align: right;\">\n",
       "      <th></th>\n",
       "      <th>Date</th>\n",
       "      <th>Time</th>\n",
       "      <th>Latitude</th>\n",
       "      <th>Longitude</th>\n",
       "      <th>Type</th>\n",
       "      <th>Depth</th>\n",
       "      <th>Depth Error</th>\n",
       "      <th>Depth Seismic Stations</th>\n",
       "      <th>Magnitude</th>\n",
       "      <th>Magnitude Type</th>\n",
       "      <th>...</th>\n",
       "      <th>Magnitude Seismic Stations</th>\n",
       "      <th>Azimuthal Gap</th>\n",
       "      <th>Horizontal Distance</th>\n",
       "      <th>Horizontal Error</th>\n",
       "      <th>Root Mean Square</th>\n",
       "      <th>ID</th>\n",
       "      <th>Source</th>\n",
       "      <th>Location Source</th>\n",
       "      <th>Magnitude Source</th>\n",
       "      <th>Status</th>\n",
       "    </tr>\n",
       "  </thead>\n",
       "  <tbody>\n",
       "    <tr>\n",
       "      <th>3378</th>\n",
       "      <td>1975-02-23T02:58:41.000Z</td>\n",
       "      <td>1975-02-23T02:58:41.000Z</td>\n",
       "      <td>8.017</td>\n",
       "      <td>124.075</td>\n",
       "      <td>Earthquake</td>\n",
       "      <td>623.0</td>\n",
       "      <td>NaN</td>\n",
       "      <td>NaN</td>\n",
       "      <td>5.6</td>\n",
       "      <td>MB</td>\n",
       "      <td>...</td>\n",
       "      <td>NaN</td>\n",
       "      <td>NaN</td>\n",
       "      <td>NaN</td>\n",
       "      <td>NaN</td>\n",
       "      <td>NaN</td>\n",
       "      <td>USP0000A09</td>\n",
       "      <td>US</td>\n",
       "      <td>US</td>\n",
       "      <td>US</td>\n",
       "      <td>Reviewed</td>\n",
       "    </tr>\n",
       "    <tr>\n",
       "      <th>7512</th>\n",
       "      <td>1985-04-28T02:53:41.530Z</td>\n",
       "      <td>1985-04-28T02:53:41.530Z</td>\n",
       "      <td>-32.998</td>\n",
       "      <td>-71.766</td>\n",
       "      <td>Earthquake</td>\n",
       "      <td>33.0</td>\n",
       "      <td>NaN</td>\n",
       "      <td>NaN</td>\n",
       "      <td>5.6</td>\n",
       "      <td>MW</td>\n",
       "      <td>...</td>\n",
       "      <td>NaN</td>\n",
       "      <td>NaN</td>\n",
       "      <td>NaN</td>\n",
       "      <td>NaN</td>\n",
       "      <td>1.30</td>\n",
       "      <td>USP0002E81</td>\n",
       "      <td>US</td>\n",
       "      <td>US</td>\n",
       "      <td>HRV</td>\n",
       "      <td>Reviewed</td>\n",
       "    </tr>\n",
       "    <tr>\n",
       "      <th>20650</th>\n",
       "      <td>2011-03-13T02:23:34.520Z</td>\n",
       "      <td>2011-03-13T02:23:34.520Z</td>\n",
       "      <td>36.344</td>\n",
       "      <td>142.344</td>\n",
       "      <td>Earthquake</td>\n",
       "      <td>10.1</td>\n",
       "      <td>13.9</td>\n",
       "      <td>289.0</td>\n",
       "      <td>5.8</td>\n",
       "      <td>MWC</td>\n",
       "      <td>...</td>\n",
       "      <td>NaN</td>\n",
       "      <td>32.3</td>\n",
       "      <td>NaN</td>\n",
       "      <td>NaN</td>\n",
       "      <td>1.06</td>\n",
       "      <td>USP000HWQP</td>\n",
       "      <td>US</td>\n",
       "      <td>US</td>\n",
       "      <td>GCMT</td>\n",
       "      <td>Reviewed</td>\n",
       "    </tr>\n",
       "  </tbody>\n",
       "</table>\n",
       "<p>3 rows × 21 columns</p>\n",
       "</div>"
      ],
      "text/plain": [
       "                           Date                      Time  Latitude  \\\n",
       "3378   1975-02-23T02:58:41.000Z  1975-02-23T02:58:41.000Z     8.017   \n",
       "7512   1985-04-28T02:53:41.530Z  1985-04-28T02:53:41.530Z   -32.998   \n",
       "20650  2011-03-13T02:23:34.520Z  2011-03-13T02:23:34.520Z    36.344   \n",
       "\n",
       "       Longitude        Type  Depth  Depth Error  Depth Seismic Stations  \\\n",
       "3378     124.075  Earthquake  623.0          NaN                     NaN   \n",
       "7512     -71.766  Earthquake   33.0          NaN                     NaN   \n",
       "20650    142.344  Earthquake   10.1         13.9                   289.0   \n",
       "\n",
       "       Magnitude Magnitude Type  ...  Magnitude Seismic Stations  \\\n",
       "3378         5.6             MB  ...                         NaN   \n",
       "7512         5.6             MW  ...                         NaN   \n",
       "20650        5.8            MWC  ...                         NaN   \n",
       "\n",
       "       Azimuthal Gap  Horizontal Distance  Horizontal Error  Root Mean Square  \\\n",
       "3378             NaN                  NaN               NaN               NaN   \n",
       "7512             NaN                  NaN               NaN              1.30   \n",
       "20650           32.3                  NaN               NaN              1.06   \n",
       "\n",
       "               ID Source Location Source Magnitude Source    Status  \n",
       "3378   USP0000A09     US              US               US  Reviewed  \n",
       "7512   USP0002E81     US              US              HRV  Reviewed  \n",
       "20650  USP000HWQP     US              US             GCMT  Reviewed  \n",
       "\n",
       "[3 rows x 21 columns]"
      ]
     },
     "execution_count": 8,
     "metadata": {},
     "output_type": "execute_result"
    }
   ],
   "source": [
    "indices = np.where([date_lengths == 24])[1]\n",
    "print('Indices with corrupted data:', indices)\n",
    "earthquakes.loc[indices]"
   ]
  },
  {
   "cell_type": "markdown",
   "id": "d082cfaa",
   "metadata": {
    "papermill": {
     "duration": 0.011028,
     "end_time": "2023-06-24T07:07:50.180630",
     "exception": false,
     "start_time": "2023-06-24T07:07:50.169602",
     "status": "completed"
    },
    "tags": []
   },
   "source": [
    "Given all of this information, it's your turn to create a new column \"date_parsed\" in the `earthquakes` dataset that has correctly parsed dates in it.  \n",
    "\n",
    "**Note**: When completing this problem, you are allowed to (but are not required to) amend the entries in the \"Date\" and \"Time\" columns.  Do not remove any rows from the dataset."
   ]
  },
  {
   "cell_type": "code",
   "execution_count": 9,
   "id": "2986d3d5",
   "metadata": {
    "execution": {
     "iopub.execute_input": "2023-06-24T07:07:50.204450Z",
     "iopub.status.busy": "2023-06-24T07:07:50.204022Z",
     "iopub.status.idle": "2023-06-24T07:07:50.287258Z",
     "shell.execute_reply": "2023-06-24T07:07:50.286110Z"
    },
    "papermill": {
     "duration": 0.098122,
     "end_time": "2023-06-24T07:07:50.289763",
     "exception": false,
     "start_time": "2023-06-24T07:07:50.191641",
     "status": "completed"
    },
    "tags": []
   },
   "outputs": [
    {
     "data": {
      "application/javascript": [
       "parent.postMessage({\"jupyterEvent\": \"custom.exercise_interaction\", \"data\": {\"outcomeType\": 1, \"valueTowardsCompletion\": 0.25, \"interactionType\": 1, \"questionType\": 2, \"questionId\": \"2_ConvertToDatetime\", \"learnToolsVersion\": \"0.3.4\", \"failureMessage\": \"\", \"exceptionClass\": \"\", \"trace\": \"\"}}, \"*\")"
      ],
      "text/plain": [
       "<IPython.core.display.Javascript object>"
      ]
     },
     "metadata": {},
     "output_type": "display_data"
    },
    {
     "data": {
      "text/markdown": [
       "<span style=\"color:#33cc33\">Correct</span>"
      ],
      "text/plain": [
       "Correct"
      ]
     },
     "metadata": {},
     "output_type": "display_data"
    }
   ],
   "source": [
    "# TODO: Your code here\n",
    "\n",
    "earthquakes.loc[3378, \"Date\"] = \"02/23/1975\"\n",
    "earthquakes.loc[7512, \"Date\"] = \"04/28/1985\"\n",
    "earthquakes.loc[20650, \"Date\"] = \"03/13/2011\"\n",
    "earthquakes['date_parsed'] = pd.to_datetime(earthquakes['Date'], format=\"%m/%d/%Y\")\n",
    "# Check your answer\n",
    "q2.check()"
   ]
  },
  {
   "cell_type": "code",
   "execution_count": 10,
   "id": "e01d1b8e",
   "metadata": {
    "execution": {
     "iopub.execute_input": "2023-06-24T07:07:50.314011Z",
     "iopub.status.busy": "2023-06-24T07:07:50.313629Z",
     "iopub.status.idle": "2023-06-24T07:07:50.328760Z",
     "shell.execute_reply": "2023-06-24T07:07:50.327468Z"
    },
    "papermill": {
     "duration": 0.030506,
     "end_time": "2023-06-24T07:07:50.331359",
     "exception": false,
     "start_time": "2023-06-24T07:07:50.300853",
     "status": "completed"
    },
    "tags": []
   },
   "outputs": [
    {
     "data": {
      "application/javascript": [
       "parent.postMessage({\"jupyterEvent\": \"custom.exercise_interaction\", \"data\": {\"interactionType\": 2, \"questionType\": 2, \"questionId\": \"2_ConvertToDatetime\", \"learnToolsVersion\": \"0.3.4\", \"valueTowardsCompletion\": 0.0, \"failureMessage\": \"\", \"exceptionClass\": \"\", \"trace\": \"\", \"outcomeType\": 4}}, \"*\")"
      ],
      "text/plain": [
       "<IPython.core.display.Javascript object>"
      ]
     },
     "metadata": {},
     "output_type": "display_data"
    },
    {
     "data": {
      "text/markdown": [
       "<span style=\"color:#3366cc\">Hint:</span> Since there are only three rows with a fancy type, you might consider manually editing them. For instance, you can begin by setting `earthquakes.loc[3378, \"Date\"] = \"02/23/1975\"`."
      ],
      "text/plain": [
       "Hint: Since there are only three rows with a fancy type, you might consider manually editing them. For instance, you can begin by setting `earthquakes.loc[3378, \"Date\"] = \"02/23/1975\"`."
      ]
     },
     "metadata": {},
     "output_type": "display_data"
    },
    {
     "data": {
      "application/javascript": [
       "parent.postMessage({\"jupyterEvent\": \"custom.exercise_interaction\", \"data\": {\"interactionType\": 3, \"questionType\": 2, \"questionId\": \"2_ConvertToDatetime\", \"learnToolsVersion\": \"0.3.4\", \"valueTowardsCompletion\": 0.0, \"failureMessage\": \"\", \"exceptionClass\": \"\", \"trace\": \"\", \"outcomeType\": 4}}, \"*\")"
      ],
      "text/plain": [
       "<IPython.core.display.Javascript object>"
      ]
     },
     "metadata": {},
     "output_type": "display_data"
    },
    {
     "data": {
      "text/markdown": [
       "<span style=\"color:#33cc99\">Solution:</span> \n",
       "```python\n",
       "\n",
       "earthquakes.loc[3378, \"Date\"] = \"02/23/1975\"\n",
       "earthquakes.loc[7512, \"Date\"] = \"04/28/1985\"\n",
       "earthquakes.loc[20650, \"Date\"] = \"03/13/2011\"\n",
       "earthquakes['date_parsed'] = pd.to_datetime(earthquakes['Date'], format=\"%m/%d/%Y\")\n",
       "\n",
       "```"
      ],
      "text/plain": [
       "Solution: \n",
       "```python\n",
       "\n",
       "earthquakes.loc[3378, \"Date\"] = \"02/23/1975\"\n",
       "earthquakes.loc[7512, \"Date\"] = \"04/28/1985\"\n",
       "earthquakes.loc[20650, \"Date\"] = \"03/13/2011\"\n",
       "earthquakes['date_parsed'] = pd.to_datetime(earthquakes['Date'], format=\"%m/%d/%Y\")\n",
       "\n",
       "```"
      ]
     },
     "metadata": {},
     "output_type": "display_data"
    }
   ],
   "source": [
    "# Lines below will give you a hint or solution code\n",
    "q2.hint()\n",
    "q2.solution()"
   ]
  },
  {
   "cell_type": "markdown",
   "id": "ac61061a",
   "metadata": {
    "papermill": {
     "duration": 0.011492,
     "end_time": "2023-06-24T07:07:50.354640",
     "exception": false,
     "start_time": "2023-06-24T07:07:50.343148",
     "status": "completed"
    },
    "tags": []
   },
   "source": [
    "# 3) Select the day of the month\n",
    "\n",
    "Create a Pandas Series `day_of_month_earthquakes` containing the day of the month from the \"date_parsed\" column."
   ]
  },
  {
   "cell_type": "code",
   "execution_count": 11,
   "id": "311a881a",
   "metadata": {
    "execution": {
     "iopub.execute_input": "2023-06-24T07:07:50.379940Z",
     "iopub.status.busy": "2023-06-24T07:07:50.379544Z",
     "iopub.status.idle": "2023-06-24T07:07:50.392597Z",
     "shell.execute_reply": "2023-06-24T07:07:50.391269Z"
    },
    "papermill": {
     "duration": 0.028891,
     "end_time": "2023-06-24T07:07:50.395339",
     "exception": false,
     "start_time": "2023-06-24T07:07:50.366448",
     "status": "completed"
    },
    "tags": []
   },
   "outputs": [
    {
     "data": {
      "application/javascript": [
       "parent.postMessage({\"jupyterEvent\": \"custom.exercise_interaction\", \"data\": {\"outcomeType\": 1, \"valueTowardsCompletion\": 0.25, \"interactionType\": 1, \"questionType\": 1, \"questionId\": \"3_DayOfMonth\", \"learnToolsVersion\": \"0.3.4\", \"failureMessage\": \"\", \"exceptionClass\": \"\", \"trace\": \"\"}}, \"*\")"
      ],
      "text/plain": [
       "<IPython.core.display.Javascript object>"
      ]
     },
     "metadata": {},
     "output_type": "display_data"
    },
    {
     "data": {
      "text/markdown": [
       "<span style=\"color:#33cc33\">Correct</span>"
      ],
      "text/plain": [
       "Correct"
      ]
     },
     "metadata": {},
     "output_type": "display_data"
    }
   ],
   "source": [
    "# try to get the day of the month from the date column\n",
    "day_of_month_earthquakes = earthquakes['date_parsed'].dt.day\n",
    "\n",
    "# Check your answer\n",
    "q3.check()"
   ]
  },
  {
   "cell_type": "code",
   "execution_count": 12,
   "id": "8ab5aa01",
   "metadata": {
    "execution": {
     "iopub.execute_input": "2023-06-24T07:07:50.422009Z",
     "iopub.status.busy": "2023-06-24T07:07:50.421611Z",
     "iopub.status.idle": "2023-06-24T07:07:50.426495Z",
     "shell.execute_reply": "2023-06-24T07:07:50.425278Z"
    },
    "papermill": {
     "duration": 0.021084,
     "end_time": "2023-06-24T07:07:50.428917",
     "exception": false,
     "start_time": "2023-06-24T07:07:50.407833",
     "status": "completed"
    },
    "tags": []
   },
   "outputs": [],
   "source": [
    "# Lines below will give you a hint or solution code\n",
    "#q3.hint()\n",
    "#q3.solution()"
   ]
  },
  {
   "cell_type": "markdown",
   "id": "b5cceded",
   "metadata": {
    "papermill": {
     "duration": 0.012291,
     "end_time": "2023-06-24T07:07:50.454446",
     "exception": false,
     "start_time": "2023-06-24T07:07:50.442155",
     "status": "completed"
    },
    "tags": []
   },
   "source": [
    "# 4) Plot the day of the month to check the date parsing\n",
    "\n",
    "Plot the days of the month from your earthquake dataset."
   ]
  },
  {
   "cell_type": "code",
   "execution_count": 13,
   "id": "7121f591",
   "metadata": {
    "execution": {
     "iopub.execute_input": "2023-06-24T07:07:50.480915Z",
     "iopub.status.busy": "2023-06-24T07:07:50.480521Z",
     "iopub.status.idle": "2023-06-24T07:07:50.847146Z",
     "shell.execute_reply": "2023-06-24T07:07:50.846066Z"
    },
    "papermill": {
     "duration": 0.382652,
     "end_time": "2023-06-24T07:07:50.849587",
     "exception": false,
     "start_time": "2023-06-24T07:07:50.466935",
     "status": "completed"
    },
    "tags": []
   },
   "outputs": [
    {
     "name": "stdout",
     "output_type": "stream",
     "text": [
      "0         2\n",
      "1         4\n",
      "2         5\n",
      "3         8\n",
      "4         9\n",
      "         ..\n",
      "23407    28\n",
      "23408    28\n",
      "23409    28\n",
      "23410    29\n",
      "23411    30\n",
      "Name: date_parsed, Length: 23412, dtype: int64\n"
     ]
    },
    {
     "data": {
      "image/png": "[encoded data removed]",
      "text/plain": [
       "<Figure size 640x480 with 1 Axes>"
      ]
     },
     "metadata": {},
     "output_type": "display_data"
    }
   ],
   "source": [
    "# TODO: Your code here!\n",
    "\n",
    "dropNullValuedData= day_of_month_earthquakes.dropna()\n",
    "print(dropNullValuedData)\n",
    "\n",
    "# plot the day of the month\n",
    "# sns.displot(dropNullValuedData, kde=True, bins=31)\n",
    "\n",
    "import matplotlib.pyplot as plt\n",
    "\n",
    "plt.hist(dropNullValuedData, bins=31)\n",
    "plt.xlabel('Values')\n",
    "plt.ylabel('Frequency')\n",
    "plt.title('Histogram of dropNullValuedData')\n",
    "plt.show()\n",
    "\n"
   ]
  },
  {
   "cell_type": "markdown",
   "id": "88f86fd8",
   "metadata": {
    "papermill": {
     "duration": 0.012277,
     "end_time": "2023-06-24T07:07:50.874762",
     "exception": false,
     "start_time": "2023-06-24T07:07:50.862485",
     "status": "completed"
    },
    "tags": []
   },
   "source": [
    "Does the graph make sense to you?"
   ]
  },
  {
   "cell_type": "code",
   "execution_count": 14,
   "id": "ba256591",
   "metadata": {
    "execution": {
     "iopub.execute_input": "2023-06-24T07:07:50.902455Z",
     "iopub.status.busy": "2023-06-24T07:07:50.901712Z",
     "iopub.status.idle": "2023-06-24T07:07:50.910797Z",
     "shell.execute_reply": "2023-06-24T07:07:50.909553Z"
    },
    "papermill": {
     "duration": 0.025945,
     "end_time": "2023-06-24T07:07:50.913433",
     "exception": false,
     "start_time": "2023-06-24T07:07:50.887488",
     "status": "completed"
    },
    "tags": []
   },
   "outputs": [
    {
     "data": {
      "application/javascript": [
       "parent.postMessage({\"jupyterEvent\": \"custom.exercise_interaction\", \"data\": {\"outcomeType\": 1, \"valueTowardsCompletion\": 0.25, \"interactionType\": 1, \"questionType\": 4, \"questionId\": \"4_PlotDayOfMonth\", \"learnToolsVersion\": \"0.3.4\", \"failureMessage\": \"\", \"exceptionClass\": \"\", \"trace\": \"\"}}, \"*\")"
      ],
      "text/plain": [
       "<IPython.core.display.Javascript object>"
      ]
     },
     "metadata": {},
     "output_type": "display_data"
    },
    {
     "data": {
      "text/markdown": [
       "<span style=\"color:#33cc33\">Correct:</span> \n",
       "\n",
       "The graph should make sense: it shows a relatively even distribution in days of the month,which is what we would expect."
      ],
      "text/plain": [
       "Correct: \n",
       "\n",
       "The graph should make sense: it shows a relatively even distribution in days of the month,which is what we would expect."
      ]
     },
     "metadata": {},
     "output_type": "display_data"
    }
   ],
   "source": [
    "# Check your answer (Run this code cell to receive credit!)\n",
    "q4.check()"
   ]
  },
  {
   "cell_type": "code",
   "execution_count": 15,
   "id": "df6c4818",
   "metadata": {
    "execution": {
     "iopub.execute_input": "2023-06-24T07:07:50.943341Z",
     "iopub.status.busy": "2023-06-24T07:07:50.942144Z",
     "iopub.status.idle": "2023-06-24T07:07:50.946886Z",
     "shell.execute_reply": "2023-06-24T07:07:50.945875Z"
    },
    "papermill": {
     "duration": 0.022097,
     "end_time": "2023-06-24T07:07:50.949370",
     "exception": false,
     "start_time": "2023-06-24T07:07:50.927273",
     "status": "completed"
    },
    "tags": []
   },
   "outputs": [],
   "source": [
    "# Line below will give you a hint\n",
    "#q4.hint()"
   ]
  },
  {
   "cell_type": "markdown",
   "id": "d6f19833",
   "metadata": {
    "papermill": {
     "duration": 0.012916,
     "end_time": "2023-06-24T07:07:50.975666",
     "exception": false,
     "start_time": "2023-06-24T07:07:50.962750",
     "status": "completed"
    },
    "tags": []
   },
   "source": [
    "# (Optional) Bonus Challenge\n",
    "\n",
    "For an extra challenge, you'll work with a [Smithsonian dataset](https://www.kaggle.com/smithsonian/volcanic-eruptions) that documents Earth's volcanoes and their eruptive history over the past 10,000 years \n",
    "\n",
    "Run the next code cell to load the data."
   ]
  },
  {
   "cell_type": "code",
   "execution_count": 16,
   "id": "1b858997",
   "metadata": {
    "execution": {
     "iopub.execute_input": "2023-06-24T07:07:51.004253Z",
     "iopub.status.busy": "2023-06-24T07:07:51.003224Z",
     "iopub.status.idle": "2023-06-24T07:07:51.039620Z",
     "shell.execute_reply": "2023-06-24T07:07:51.038020Z"
    },
    "papermill": {
     "duration": 0.053846,
     "end_time": "2023-06-24T07:07:51.042624",
     "exception": false,
     "start_time": "2023-06-24T07:07:50.988778",
     "status": "completed"
    },
    "tags": []
   },
   "outputs": [
    {
     "name": "stdout",
     "output_type": "stream",
     "text": [
      "   Number                       Name  Country                          Region  \\\n",
      "0  210010  West Eifel Volcanic Field  Germany  Mediterranean and Western Asia   \n",
      "1  210020            Chaine des Puys   France  Mediterranean and Western Asia   \n",
      "2  210030        Olot Volcanic Field    Spain  Mediterranean and Western Asia   \n",
      "3  210040   Calatrava Volcanic Field    Spain  Mediterranean and Western Asia   \n",
      "4  211001                 Larderello    Italy  Mediterranean and Western Asia   \n",
      "\n",
      "                  Type  Activity Evidence Last Known Eruption  Latitude  \\\n",
      "0              Maar(s)     Eruption Dated            8300 BCE    50.170   \n",
      "1         Lava dome(s)     Eruption Dated            4040 BCE    45.775   \n",
      "2  Pyroclastic cone(s)  Evidence Credible             Unknown    42.170   \n",
      "3  Pyroclastic cone(s)     Eruption Dated            3600 BCE    38.870   \n",
      "4  Explosion crater(s)  Eruption Observed             1282 CE    43.250   \n",
      "\n",
      "   Longitude  Elevation (Meters)                Dominant Rock Type  \\\n",
      "0       6.85                 600                           Foidite   \n",
      "1       2.97                1464             Basalt / Picro-Basalt   \n",
      "2       2.53                 893  Trachybasalt / Tephrite Basanite   \n",
      "3      -4.02                1117             Basalt / Picro-Basalt   \n",
      "4      10.87                 500                           No Data   \n",
      "\n",
      "                               Tectonic Setting  \n",
      "0        Rift Zone / Continental Crust (>25 km)  \n",
      "1        Rift Zone / Continental Crust (>25 km)  \n",
      "2       Intraplate / Continental Crust (>25 km)  \n",
      "3       Intraplate / Continental Crust (>25 km)  \n",
      "4  Subduction Zone / Continental Crust (>25 km)  \n"
     ]
    }
   ],
   "source": [
    "volcanos = pd.read_csv(\"../input/volcanic-eruptions/database.csv\")\n",
    "print(volcanos.head())"
   ]
  },
  {
   "cell_type": "markdown",
   "id": "df099a98",
   "metadata": {
    "papermill": {
     "duration": 0.013235,
     "end_time": "2023-06-24T07:07:51.069857",
     "exception": false,
     "start_time": "2023-06-24T07:07:51.056622",
     "status": "completed"
    },
    "tags": []
   },
   "source": [
    "Try parsing the column \"Last Known Eruption\" from the `volcanos` dataframe. This column contains a mixture of text (\"Unknown\") and years both before the common era (BCE, also known as BC) and in the common era (CE, also known as AD)."
   ]
  },
  {
   "cell_type": "code",
   "execution_count": 17,
   "id": "46b442a6",
   "metadata": {
    "execution": {
     "iopub.execute_input": "2023-06-24T07:07:51.099153Z",
     "iopub.status.busy": "2023-06-24T07:07:51.098476Z",
     "iopub.status.idle": "2023-06-24T07:07:51.104949Z",
     "shell.execute_reply": "2023-06-24T07:07:51.103906Z"
    },
    "papermill": {
     "duration": 0.024228,
     "end_time": "2023-06-24T07:07:51.107486",
     "exception": false,
     "start_time": "2023-06-24T07:07:51.083258",
     "status": "completed"
    },
    "tags": []
   },
   "outputs": [],
   "source": [
    "volcanos['Last Known Eruption'].sample(5)\n",
    "\n",
    "volcanos.loc[1256, \"Last Known Eruption\"] = \"1962 CE\"\n",
    "# volcanos['date_parsed'] = pd.to_datetime(volcanos['Last Known Eruption'], format=\"\")"
   ]
  },
  {
   "cell_type": "markdown",
   "id": "8fa02482",
   "metadata": {
    "papermill": {
     "duration": 0.012852,
     "end_time": "2023-06-24T07:07:51.133514",
     "exception": false,
     "start_time": "2023-06-24T07:07:51.120662",
     "status": "completed"
    },
    "tags": []
   },
   "source": [
    "# (Optional) More practice\n",
    "\n",
    "If you're interested in graphing time series, [check out this tutorial](https://www.kaggle.com/residentmario/time-series-plotting-optional).\n",
    "\n",
    "You can also look into passing columns that you know have dates in them  the `parse_dates` argument in `read_csv`. (The documention [is here](https://pandas.pydata.org/pandas-docs/stable/generated/pandas.read_csv.html).) Do note that this method can be very slow, but depending on your needs it may sometimes be handy to use.\n",
    "\n",
    "# Keep going\n",
    "\n",
    "In the next lesson, learn how to [**work with character encodings**](https://www.kaggle.com/alexisbcook/character-encodings)."
   ]
  },
  {
   "cell_type": "markdown",
   "id": "8832af71",
   "metadata": {
    "papermill": {
     "duration": 0.012733,
     "end_time": "2023-06-24T07:07:51.159827",
     "exception": false,
     "start_time": "2023-06-24T07:07:51.147094",
     "status": "completed"
    },
    "tags": []
   },
   "source": [
    "---\n",
    "\n",
    "\n",
    "\n",
    "\n",
    "*Have questions or comments? Visit the [course discussion forum](https://www.kaggle.com/learn/data-cleaning/discussion) to chat with other learners.*"
   ]
  }
 ],
 "metadata": {
  "kernelspec": {
   "display_name": "Python 3",
   "language": "python",
   "name": "python3"
  },
  "language_info": {
   "codemirror_mode": {
    "name": "ipython",
    "version": 3
   },
   "file_extension": ".py",
   "mimetype": "text/x-python",
   "name": "python",
   "nbconvert_exporter": "python",
   "pygments_lexer": "ipython3",
   "version": "3.10.10"
  },
  "papermill": {
   "default_parameters": {},
   "duration": 18.705935,
   "end_time": "2023-06-24T07:07:52.195717",
   "environment_variables": {},
   "exception": null,
   "input_path": "__notebook__.ipynb",
   "output_path": "__notebook__.ipynb",
   "parameters": {},
   "start_time": "2023-06-24T07:07:33.489782",
   "version": "2.4.0"
  }
 },
 "nbformat": 4,
 "nbformat_minor": 5
}
