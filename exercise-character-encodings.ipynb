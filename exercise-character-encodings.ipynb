{
 "cells": [
  {
   "cell_type": "markdown",
   "id": "1f78f2f8",
   "metadata": {
    "papermill": {
     "duration": 0.0046,
     "end_time": "2023-06-24T07:59:59.326584",
     "exception": false,
     "start_time": "2023-06-24T07:59:59.321984",
     "status": "completed"
    },
    "tags": []
   },
   "source": [
    "**This notebook is an exercise in the [Data Cleaning](https://www.kaggle.com/learn/data-cleaning) course.  You can reference the tutorial at [this link](https://www.kaggle.com/alexisbcook/character-encodings).**\n",
    "\n",
    "---\n"
   ]
  },
  {
   "cell_type": "markdown",
   "id": "43ce4ab2",
   "metadata": {
    "papermill": {
     "duration": 0.003896,
     "end_time": "2023-06-24T07:59:59.334735",
     "exception": false,
     "start_time": "2023-06-24T07:59:59.330839",
     "status": "completed"
    },
    "tags": []
   },
   "source": [
    "In this exercise, you'll apply what you learned in the **Character encodings** tutorial.\n",
    "\n",
    "# Setup\n",
    "\n",
    "The questions below will give you feedback on your work. Run the following cell to set up the feedback system."
   ]
  },
  {
   "cell_type": "code",
   "execution_count": 1,
   "id": "1e6228ca",
   "metadata": {
    "execution": {
     "iopub.execute_input": "2023-06-24T07:59:59.344777Z",
     "iopub.status.busy": "2023-06-24T07:59:59.344192Z",
     "iopub.status.idle": "2023-06-24T07:59:59.435916Z",
     "shell.execute_reply": "2023-06-24T07:59:59.434921Z"
    },
    "papermill": {
     "duration": 0.098866,
     "end_time": "2023-06-24T07:59:59.437773",
     "exception": false,
     "start_time": "2023-06-24T07:59:59.338907",
     "status": "completed"
    },
    "tags": []
   },
   "outputs": [
    {
     "name": "stdout",
     "output_type": "stream",
     "text": [
      "Setup Complete\n"
     ]
    }
   ],
   "source": [
    "from learntools.core import binder\n",
    "binder.bind(globals())\n",
    "from learntools.data_cleaning.ex4 import *\n",
    "print(\"Setup Complete\")"
   ]
  },
  {
   "cell_type": "markdown",
   "id": "7a2e8bad",
   "metadata": {
    "papermill": {
     "duration": 0.003604,
     "end_time": "2023-06-24T07:59:59.445346",
     "exception": false,
     "start_time": "2023-06-24T07:59:59.441742",
     "status": "completed"
    },
    "tags": []
   },
   "source": [
    "# Get our environment set up\n",
    "\n",
    "The first thing we'll need to do is load in the libraries we'll be using."
   ]
  },
  {
   "cell_type": "code",
   "execution_count": 2,
   "id": "398e85ae",
   "metadata": {
    "execution": {
     "iopub.execute_input": "2023-06-24T07:59:59.454546Z",
     "iopub.status.busy": "2023-06-24T07:59:59.453916Z",
     "iopub.status.idle": "2023-06-24T07:59:59.459482Z",
     "shell.execute_reply": "2023-06-24T07:59:59.458250Z"
    },
    "papermill": {
     "duration": 0.012914,
     "end_time": "2023-06-24T07:59:59.461978",
     "exception": false,
     "start_time": "2023-06-24T07:59:59.449064",
     "status": "completed"
    },
    "tags": []
   },
   "outputs": [],
   "source": [
    "# modules we'll use\n",
    "import pandas as pd\n",
    "import numpy as np\n",
    "\n",
    "# helpful character encoding module\n",
    "import charset_normalizer\n",
    "\n",
    "# set seed for reproducibility\n",
    "np.random.seed(0)"
   ]
  },
  {
   "cell_type": "markdown",
   "id": "e5c2f5ad",
   "metadata": {
    "papermill": {
     "duration": 0.005476,
     "end_time": "2023-06-24T07:59:59.471694",
     "exception": false,
     "start_time": "2023-06-24T07:59:59.466218",
     "status": "completed"
    },
    "tags": []
   },
   "source": [
    "# 1) What are encodings?\n",
    "\n",
    "You're working with a dataset composed of bytes.  Run the code cell below to print a sample entry."
   ]
  },
  {
   "cell_type": "code",
   "execution_count": 3,
   "id": "1da3ad84",
   "metadata": {
    "execution": {
     "iopub.execute_input": "2023-06-24T07:59:59.481424Z",
     "iopub.status.busy": "2023-06-24T07:59:59.481092Z",
     "iopub.status.idle": "2023-06-24T07:59:59.486484Z",
     "shell.execute_reply": "2023-06-24T07:59:59.484939Z"
    },
    "papermill": {
     "duration": 0.012981,
     "end_time": "2023-06-24T07:59:59.488817",
     "exception": false,
     "start_time": "2023-06-24T07:59:59.475836",
     "status": "completed"
    },
    "tags": []
   },
   "outputs": [
    {
     "name": "stdout",
     "output_type": "stream",
     "text": [
      "b'\\xa7A\\xa6n'\n",
      "data type: <class 'bytes'>\n"
     ]
    }
   ],
   "source": [
    "sample_entry = b'\\xa7A\\xa6n'\n",
    "print(sample_entry)\n",
    "print('data type:', type(sample_entry))"
   ]
  },
  {
   "cell_type": "markdown",
   "id": "26f2cd23",
   "metadata": {
    "papermill": {
     "duration": 0.003972,
     "end_time": "2023-06-24T07:59:59.497081",
     "exception": false,
     "start_time": "2023-06-24T07:59:59.493109",
     "status": "completed"
    },
    "tags": []
   },
   "source": [
    "You notice that it doesn't use the standard UTF-8 encoding. \n",
    "\n",
    "Use the next code cell to create a variable `new_entry` that changes the encoding from `\"big5-tw\"` to `\"utf-8\"`.  `new_entry` should have the bytes datatype."
   ]
  },
  {
   "cell_type": "code",
   "execution_count": 4,
   "id": "aa4d2841",
   "metadata": {
    "execution": {
     "iopub.execute_input": "2023-06-24T07:59:59.507045Z",
     "iopub.status.busy": "2023-06-24T07:59:59.506281Z",
     "iopub.status.idle": "2023-06-24T07:59:59.516143Z",
     "shell.execute_reply": "2023-06-24T07:59:59.514723Z"
    },
    "papermill": {
     "duration": 0.017046,
     "end_time": "2023-06-24T07:59:59.518130",
     "exception": false,
     "start_time": "2023-06-24T07:59:59.501084",
     "status": "completed"
    },
    "tags": []
   },
   "outputs": [
    {
     "data": {
      "application/javascript": [
       "parent.postMessage({\"jupyterEvent\": \"custom.exercise_interaction\", \"data\": {\"outcomeType\": 1, \"valueTowardsCompletion\": 0.3333333333333333, \"interactionType\": 1, \"questionType\": 1, \"questionId\": \"1_EncodingsIntro\", \"learnToolsVersion\": \"0.3.4\", \"failureMessage\": \"\", \"exceptionClass\": \"\", \"trace\": \"\"}}, \"*\")"
      ],
      "text/plain": [
       "<IPython.core.display.Javascript object>"
      ]
     },
     "metadata": {},
     "output_type": "display_data"
    },
    {
     "data": {
      "text/markdown": [
       "<span style=\"color:#33cc33\">Correct</span>"
      ],
      "text/plain": [
       "Correct"
      ]
     },
     "metadata": {},
     "output_type": "display_data"
    }
   ],
   "source": [
    "before = sample_entry.decode('big5-tw')\n",
    "new_entry = before.encode(\"utf-8\")\n",
    "# Check your answer\n",
    "q1.check()"
   ]
  },
  {
   "cell_type": "code",
   "execution_count": 5,
   "id": "96e44996",
   "metadata": {
    "execution": {
     "iopub.execute_input": "2023-06-24T07:59:59.528631Z",
     "iopub.status.busy": "2023-06-24T07:59:59.528360Z",
     "iopub.status.idle": "2023-06-24T07:59:59.535555Z",
     "shell.execute_reply": "2023-06-24T07:59:59.534830Z"
    },
    "papermill": {
     "duration": 0.014772,
     "end_time": "2023-06-24T07:59:59.537228",
     "exception": false,
     "start_time": "2023-06-24T07:59:59.522456",
     "status": "completed"
    },
    "tags": []
   },
   "outputs": [
    {
     "data": {
      "application/javascript": [
       "parent.postMessage({\"jupyterEvent\": \"custom.exercise_interaction\", \"data\": {\"interactionType\": 2, \"questionType\": 1, \"questionId\": \"1_EncodingsIntro\", \"learnToolsVersion\": \"0.3.4\", \"valueTowardsCompletion\": 0.0, \"failureMessage\": \"\", \"exceptionClass\": \"\", \"trace\": \"\", \"outcomeType\": 4}}, \"*\")"
      ],
      "text/plain": [
       "<IPython.core.display.Javascript object>"
      ]
     },
     "metadata": {},
     "output_type": "display_data"
    },
    {
     "data": {
      "text/markdown": [
       "<span style=\"color:#3366cc\">Hint:</span> Try using `.decode()` to get the string, then `.encode()` to get the bytes representation, encoded in UTF-8."
      ],
      "text/plain": [
       "Hint: Try using `.decode()` to get the string, then `.encode()` to get the bytes representation, encoded in UTF-8."
      ]
     },
     "metadata": {},
     "output_type": "display_data"
    }
   ],
   "source": [
    "# Lines below will give you a hint or solution code\n",
    "q1.hint()\n",
    "\n",
    "# q1.solution()"
   ]
  },
  {
   "cell_type": "markdown",
   "id": "ddb428d1",
   "metadata": {
    "papermill": {
     "duration": 0.004432,
     "end_time": "2023-06-24T07:59:59.546543",
     "exception": false,
     "start_time": "2023-06-24T07:59:59.542111",
     "status": "completed"
    },
    "tags": []
   },
   "source": [
    "# 2) Reading in files with encoding problems\n",
    "\n",
    "Use the code cell below to read in this file at path `\"../input/fatal-police-shootings-in-the-us/PoliceKillingsUS.csv\"`.  \n",
    "\n",
    "Figure out what the correct encoding should be and read in the file to a DataFrame `police_killings`."
   ]
  },
  {
   "cell_type": "code",
   "execution_count": 6,
   "id": "3738036f",
   "metadata": {
    "execution": {
     "iopub.execute_input": "2023-06-24T07:59:59.561163Z",
     "iopub.status.busy": "2023-06-24T07:59:59.560582Z",
     "iopub.status.idle": "2023-06-24T07:59:59.585721Z",
     "shell.execute_reply": "2023-06-24T07:59:59.584113Z"
    },
    "papermill": {
     "duration": 0.034399,
     "end_time": "2023-06-24T07:59:59.587615",
     "exception": false,
     "start_time": "2023-06-24T07:59:59.553216",
     "status": "completed"
    },
    "tags": []
   },
   "outputs": [
    {
     "data": {
      "application/javascript": [
       "parent.postMessage({\"jupyterEvent\": \"custom.exercise_interaction\", \"data\": {\"outcomeType\": 1, \"valueTowardsCompletion\": 0.3333333333333333, \"interactionType\": 1, \"questionType\": 1, \"questionId\": \"2_ReadIn\", \"learnToolsVersion\": \"0.3.4\", \"failureMessage\": \"\", \"exceptionClass\": \"\", \"trace\": \"\"}}, \"*\")"
      ],
      "text/plain": [
       "<IPython.core.display.Javascript object>"
      ]
     },
     "metadata": {},
     "output_type": "display_data"
    },
    {
     "data": {
      "text/markdown": [
       "<span style=\"color:#33cc33\">Correct</span>"
      ],
      "text/plain": [
       "Correct"
      ]
     },
     "metadata": {},
     "output_type": "display_data"
    }
   ],
   "source": [
    "# TODO: Load in the DataFrame correctly.\n",
    "police_killings =pd.read_csv(\"../input/fatal-police-shootings-in-the-us/PoliceKillingsUS.csv\",  encoding='Windows-1252')\n",
    "\n",
    "# Check your answer\n",
    "q2.check()"
   ]
  },
  {
   "cell_type": "markdown",
   "id": "dfacbb31",
   "metadata": {
    "papermill": {
     "duration": 0.005346,
     "end_time": "2023-06-24T07:59:59.600029",
     "exception": false,
     "start_time": "2023-06-24T07:59:59.594683",
     "status": "completed"
    },
    "tags": []
   },
   "source": [
    "Feel free to use any additional code cells for supplemental work.  To get credit for finishing this question, you'll need to run `q2.check()` and get a result of **Correct**."
   ]
  },
  {
   "cell_type": "code",
   "execution_count": 7,
   "id": "f12bf77c",
   "metadata": {
    "execution": {
     "iopub.execute_input": "2023-06-24T07:59:59.612685Z",
     "iopub.status.busy": "2023-06-24T07:59:59.611830Z",
     "iopub.status.idle": "2023-06-24T07:59:59.640617Z",
     "shell.execute_reply": "2023-06-24T07:59:59.639671Z"
    },
    "papermill": {
     "duration": 0.037314,
     "end_time": "2023-06-24T07:59:59.642417",
     "exception": false,
     "start_time": "2023-06-24T07:59:59.605103",
     "status": "completed"
    },
    "tags": []
   },
   "outputs": [
    {
     "data": {
      "text/html": [
       "<div>\n",
       "<style scoped>\n",
       "    .dataframe tbody tr th:only-of-type {\n",
       "        vertical-align: middle;\n",
       "    }\n",
       "\n",
       "    .dataframe tbody tr th {\n",
       "        vertical-align: top;\n",
       "    }\n",
       "\n",
       "    .dataframe thead th {\n",
       "        text-align: right;\n",
       "    }\n",
       "</style>\n",
       "<table border=\"1\" class=\"dataframe\">\n",
       "  <thead>\n",
       "    <tr style=\"text-align: right;\">\n",
       "      <th></th>\n",
       "      <th>id</th>\n",
       "      <th>name</th>\n",
       "      <th>date</th>\n",
       "      <th>manner_of_death</th>\n",
       "      <th>armed</th>\n",
       "      <th>age</th>\n",
       "      <th>gender</th>\n",
       "      <th>race</th>\n",
       "      <th>city</th>\n",
       "      <th>state</th>\n",
       "      <th>signs_of_mental_illness</th>\n",
       "      <th>threat_level</th>\n",
       "      <th>flee</th>\n",
       "      <th>body_camera</th>\n",
       "    </tr>\n",
       "  </thead>\n",
       "  <tbody>\n",
       "    <tr>\n",
       "      <th>0</th>\n",
       "      <td>3</td>\n",
       "      <td>Tim Elliot</td>\n",
       "      <td>02/01/15</td>\n",
       "      <td>shot</td>\n",
       "      <td>gun</td>\n",
       "      <td>53.0</td>\n",
       "      <td>M</td>\n",
       "      <td>A</td>\n",
       "      <td>Shelton</td>\n",
       "      <td>WA</td>\n",
       "      <td>True</td>\n",
       "      <td>attack</td>\n",
       "      <td>Not fleeing</td>\n",
       "      <td>False</td>\n",
       "    </tr>\n",
       "    <tr>\n",
       "      <th>1</th>\n",
       "      <td>4</td>\n",
       "      <td>Lewis Lee Lembke</td>\n",
       "      <td>02/01/15</td>\n",
       "      <td>shot</td>\n",
       "      <td>gun</td>\n",
       "      <td>47.0</td>\n",
       "      <td>M</td>\n",
       "      <td>W</td>\n",
       "      <td>Aloha</td>\n",
       "      <td>OR</td>\n",
       "      <td>False</td>\n",
       "      <td>attack</td>\n",
       "      <td>Not fleeing</td>\n",
       "      <td>False</td>\n",
       "    </tr>\n",
       "    <tr>\n",
       "      <th>2</th>\n",
       "      <td>5</td>\n",
       "      <td>John Paul Quintero</td>\n",
       "      <td>03/01/15</td>\n",
       "      <td>shot and Tasered</td>\n",
       "      <td>unarmed</td>\n",
       "      <td>23.0</td>\n",
       "      <td>M</td>\n",
       "      <td>H</td>\n",
       "      <td>Wichita</td>\n",
       "      <td>KS</td>\n",
       "      <td>False</td>\n",
       "      <td>other</td>\n",
       "      <td>Not fleeing</td>\n",
       "      <td>False</td>\n",
       "    </tr>\n",
       "    <tr>\n",
       "      <th>3</th>\n",
       "      <td>8</td>\n",
       "      <td>Matthew Hoffman</td>\n",
       "      <td>04/01/15</td>\n",
       "      <td>shot</td>\n",
       "      <td>toy weapon</td>\n",
       "      <td>32.0</td>\n",
       "      <td>M</td>\n",
       "      <td>W</td>\n",
       "      <td>San Francisco</td>\n",
       "      <td>CA</td>\n",
       "      <td>True</td>\n",
       "      <td>attack</td>\n",
       "      <td>Not fleeing</td>\n",
       "      <td>False</td>\n",
       "    </tr>\n",
       "    <tr>\n",
       "      <th>4</th>\n",
       "      <td>9</td>\n",
       "      <td>Michael Rodriguez</td>\n",
       "      <td>04/01/15</td>\n",
       "      <td>shot</td>\n",
       "      <td>nail gun</td>\n",
       "      <td>39.0</td>\n",
       "      <td>M</td>\n",
       "      <td>H</td>\n",
       "      <td>Evans</td>\n",
       "      <td>CO</td>\n",
       "      <td>False</td>\n",
       "      <td>attack</td>\n",
       "      <td>Not fleeing</td>\n",
       "      <td>False</td>\n",
       "    </tr>\n",
       "  </tbody>\n",
       "</table>\n",
       "</div>"
      ],
      "text/plain": [
       "   id                name      date   manner_of_death       armed   age  \\\n",
       "0   3          Tim Elliot  02/01/15              shot         gun  53.0   \n",
       "1   4    Lewis Lee Lembke  02/01/15              shot         gun  47.0   \n",
       "2   5  John Paul Quintero  03/01/15  shot and Tasered     unarmed  23.0   \n",
       "3   8     Matthew Hoffman  04/01/15              shot  toy weapon  32.0   \n",
       "4   9   Michael Rodriguez  04/01/15              shot    nail gun  39.0   \n",
       "\n",
       "  gender race           city state  signs_of_mental_illness threat_level  \\\n",
       "0      M    A        Shelton    WA                     True       attack   \n",
       "1      M    W          Aloha    OR                    False       attack   \n",
       "2      M    H        Wichita    KS                    False        other   \n",
       "3      M    W  San Francisco    CA                     True       attack   \n",
       "4      M    H          Evans    CO                    False       attack   \n",
       "\n",
       "          flee  body_camera  \n",
       "0  Not fleeing        False  \n",
       "1  Not fleeing        False  \n",
       "2  Not fleeing        False  \n",
       "3  Not fleeing        False  \n",
       "4  Not fleeing        False  "
      ]
     },
     "execution_count": 7,
     "metadata": {},
     "output_type": "execute_result"
    }
   ],
   "source": [
    "# (Optional) Use this code cell for any additional work.\n",
    "police_killings.head()"
   ]
  },
  {
   "cell_type": "code",
   "execution_count": 8,
   "id": "978fffc1",
   "metadata": {
    "execution": {
     "iopub.execute_input": "2023-06-24T07:59:59.653907Z",
     "iopub.status.busy": "2023-06-24T07:59:59.653539Z",
     "iopub.status.idle": "2023-06-24T07:59:59.659245Z",
     "shell.execute_reply": "2023-06-24T07:59:59.657750Z"
    },
    "papermill": {
     "duration": 0.013984,
     "end_time": "2023-06-24T07:59:59.661475",
     "exception": false,
     "start_time": "2023-06-24T07:59:59.647491",
     "status": "completed"
    },
    "tags": []
   },
   "outputs": [],
   "source": [
    "# Lines below will give you a hint or solution code\n",
    "#q2.hint()\n",
    "# q2.solution()\n"
   ]
  },
  {
   "cell_type": "markdown",
   "id": "de0794b3",
   "metadata": {
    "papermill": {
     "duration": 0.005016,
     "end_time": "2023-06-24T07:59:59.671760",
     "exception": false,
     "start_time": "2023-06-24T07:59:59.666744",
     "status": "completed"
    },
    "tags": []
   },
   "source": [
    "# 3) Saving your files with UTF-8 encoding\n",
    "\n",
    "Save a version of the police killings dataset to CSV with UTF-8 encoding.  Your answer will be marked correct after saving this file.  \n",
    "\n",
    "Note: When using the `to_csv()` method, supply only the name of the file (e.g., `\"my_file.csv\"`).  This saves the file at the filepath `\"/kaggle/working/my_file.csv\"`."
   ]
  },
  {
   "cell_type": "code",
   "execution_count": 9,
   "id": "bc08e081",
   "metadata": {
    "execution": {
     "iopub.execute_input": "2023-06-24T07:59:59.684612Z",
     "iopub.status.busy": "2023-06-24T07:59:59.684013Z",
     "iopub.status.idle": "2023-06-24T07:59:59.718453Z",
     "shell.execute_reply": "2023-06-24T07:59:59.716971Z"
    },
    "papermill": {
     "duration": 0.043176,
     "end_time": "2023-06-24T07:59:59.720506",
     "exception": false,
     "start_time": "2023-06-24T07:59:59.677330",
     "status": "completed"
    },
    "tags": []
   },
   "outputs": [
    {
     "data": {
      "application/javascript": [
       "parent.postMessage({\"jupyterEvent\": \"custom.exercise_interaction\", \"data\": {\"outcomeType\": 1, \"valueTowardsCompletion\": 0.3333333333333333, \"interactionType\": 1, \"questionType\": 2, \"questionId\": \"3_SaveCSV\", \"learnToolsVersion\": \"0.3.4\", \"failureMessage\": \"\", \"exceptionClass\": \"\", \"trace\": \"\"}}, \"*\")"
      ],
      "text/plain": [
       "<IPython.core.display.Javascript object>"
      ]
     },
     "metadata": {},
     "output_type": "display_data"
    },
    {
     "data": {
      "text/markdown": [
       "<span style=\"color:#33cc33\">Correct</span>"
      ],
      "text/plain": [
       "Correct"
      ]
     },
     "metadata": {},
     "output_type": "display_data"
    }
   ],
   "source": [
    "# TODO: Save the police killings dataset to CSV\n",
    "# save our file (will be saved as UTF-8 by default!)\n",
    "police_killings.to_csv(\"my_file.csv\")\n",
    "# Check your answer\n",
    "q3.check()"
   ]
  },
  {
   "cell_type": "code",
   "execution_count": 10,
   "id": "2b47ee04",
   "metadata": {
    "execution": {
     "iopub.execute_input": "2023-06-24T07:59:59.733860Z",
     "iopub.status.busy": "2023-06-24T07:59:59.733478Z",
     "iopub.status.idle": "2023-06-24T07:59:59.737404Z",
     "shell.execute_reply": "2023-06-24T07:59:59.736701Z"
    },
    "papermill": {
     "duration": 0.01314,
     "end_time": "2023-06-24T07:59:59.739082",
     "exception": false,
     "start_time": "2023-06-24T07:59:59.725942",
     "status": "completed"
    },
    "tags": []
   },
   "outputs": [],
   "source": [
    "# Lines below will give you a hint or solution code\n",
    "#q3.hint()\n",
    "# q3.solution()\n"
   ]
  },
  {
   "cell_type": "markdown",
   "id": "4fbf103a",
   "metadata": {
    "papermill": {
     "duration": 0.006305,
     "end_time": "2023-06-24T07:59:59.751382",
     "exception": false,
     "start_time": "2023-06-24T07:59:59.745077",
     "status": "completed"
    },
    "tags": []
   },
   "source": [
    "# (Optional) More practice\n",
    "\n",
    "Check out [this dataset of files in different character encodings](https://www.kaggle.com/rtatman/character-encoding-examples). Can you read in all the files with their original encodings and them save them out as UTF-8 files?\n",
    "\n",
    "If you have a file that's in UTF-8 but has just a couple of weird-looking characters in it, you can try out the [ftfy module](https://ftfy.readthedocs.io/en/latest/#) and see if it helps. \n",
    "\n",
    "# Keep going\n",
    "\n",
    "In the final lesson, learn how to [**clean up inconsistent text entries**](https://www.kaggle.com/alexisbcook/inconsistent-data-entry) in your dataset."
   ]
  },
  {
   "cell_type": "markdown",
   "id": "e32d75dd",
   "metadata": {
    "papermill": {
     "duration": 0.005542,
     "end_time": "2023-06-24T07:59:59.763258",
     "exception": false,
     "start_time": "2023-06-24T07:59:59.757716",
     "status": "completed"
    },
    "tags": []
   },
   "source": [
    "---\n",
    "\n",
    "\n",
    "\n",
    "\n",
    "*Have questions or comments? Visit the [course discussion forum](https://www.kaggle.com/learn/data-cleaning/discussion) to chat with other learners.*"
   ]
  }
 ],
 "metadata": {
  "kernelspec": {
   "display_name": "Python 3",
   "language": "python",
   "name": "python3"
  },
  "language_info": {
   "codemirror_mode": {
    "name": "ipython",
    "version": 3
   },
   "file_extension": ".py",
   "mimetype": "text/x-python",
   "name": "python",
   "nbconvert_exporter": "python",
   "pygments_lexer": "ipython3",
   "version": "3.10.10"
  },
  "papermill": {
   "default_parameters": {},
   "duration": 10.484254,
   "end_time": "2023-06-24T08:00:00.690684",
   "environment_variables": {},
   "exception": null,
   "input_path": "__notebook__.ipynb",
   "output_path": "__notebook__.ipynb",
   "parameters": {},
   "start_time": "2023-06-24T07:59:50.206430",
   "version": "2.4.0"
  }
 },
 "nbformat": 4,
 "nbformat_minor": 5
}
